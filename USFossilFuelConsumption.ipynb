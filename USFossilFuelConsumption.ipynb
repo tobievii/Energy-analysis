{
 "cells": [
  {
   "cell_type": "code",
   "execution_count": 214,
   "metadata": {},
   "outputs": [],
   "source": [
    "import requests\n",
    "import json\n",
    "import pandas as pd\n",
    "import matplotlib.pyplot as plt\n",
    "import numpy as np\n",
    "from config import api_key\n",
    "from sklearn import preprocessing\n",
    "\n",
    "#api_key = \"4a60fcfe3a762ea4e4d9276f8944aa76\""
   ]
  },
  {
   "cell_type": "code",
   "execution_count": 215,
   "metadata": {},
   "outputs": [],
   "source": [
    "# Total Petroleum and Other Liquids Product Supplied, Annual\n",
    "petroleum_url = \"http://api.eia.gov/series/?api_key=\" + api_key + \"&series_id=STEO.PATCPUSX.A\""
   ]
  },
  {
   "cell_type": "code",
   "execution_count": 216,
   "metadata": {},
   "outputs": [
    {
     "name": "stdout",
     "output_type": "stream",
     "text": [
      "<Response [200]>\n"
     ]
    }
   ],
   "source": [
    "print(requests.get(petroleum_url))"
   ]
  },
  {
   "cell_type": "code",
   "execution_count": 217,
   "metadata": {},
   "outputs": [],
   "source": [
    "response = requests.get(petroleum_url).json()"
   ]
  },
  {
   "cell_type": "code",
   "execution_count": 218,
   "metadata": {},
   "outputs": [],
   "source": [
    "# print(json.dumps(response, indent=2, sort_keys=True))"
   ]
  },
  {
   "cell_type": "code",
   "execution_count": 219,
   "metadata": {},
   "outputs": [],
   "source": [
    "# Create lists to determine x and y axis for graphs\n",
    "years = []\n",
    "petroleum_consumption = []\n",
    "\n",
    "# Loop through Petroleum & Other Liquids API to call data being measured\n",
    "for x in response[\"series\"][0][\"data\"]:\n",
    "    years.append(x[0])\n",
    "    petroleum_consumption.append(x[1])\n",
    "    \n",
    "#values = response[\"series\"][0][\"data\"][1]\n",
    "years  = years[::-1]\n",
    "petroleum = petroleum_consumption[::-1]"
   ]
  },
  {
   "cell_type": "code",
   "execution_count": 220,
   "metadata": {},
   "outputs": [],
   "source": [
    "# Loop through to calculate the annual percent change\n",
    "i = 0\n",
    "percent_change_petro = []\n",
    "for x in petroleum_consumption:\n",
    "    if(i == 0):\n",
    "        percent_change_petro.append(0)\n",
    "    else:\n",
    "        percent_change_petro.append( (x - petroleum_consumption[i-1])/ petroleum_consumption[i-1] * 100)\n",
    "    i += 1"
   ]
  },
  {
   "cell_type": "code",
   "execution_count": 221,
   "metadata": {},
   "outputs": [
    {
     "data": {
      "text/html": [
       "<div>\n",
       "<style scoped>\n",
       "    .dataframe tbody tr th:only-of-type {\n",
       "        vertical-align: middle;\n",
       "    }\n",
       "\n",
       "    .dataframe tbody tr th {\n",
       "        vertical-align: top;\n",
       "    }\n",
       "\n",
       "    .dataframe thead th {\n",
       "        text-align: right;\n",
       "    }\n",
       "</style>\n",
       "<table border=\"1\" class=\"dataframe\">\n",
       "  <thead>\n",
       "    <tr style=\"text-align: right;\">\n",
       "      <th></th>\n",
       "      <th>Oil (mmbpd)</th>\n",
       "      <th>% Change</th>\n",
       "    </tr>\n",
       "    <tr>\n",
       "      <th>Year</th>\n",
       "      <th></th>\n",
       "      <th></th>\n",
       "    </tr>\n",
       "  </thead>\n",
       "  <tbody>\n",
       "    <tr>\n",
       "      <th>1990</th>\n",
       "      <td>21.037267</td>\n",
       "      <td>0.000000</td>\n",
       "    </tr>\n",
       "    <tr>\n",
       "      <th>1991</th>\n",
       "      <td>20.816959</td>\n",
       "      <td>-1.047232</td>\n",
       "    </tr>\n",
       "    <tr>\n",
       "      <th>1992</th>\n",
       "      <td>20.474823</td>\n",
       "      <td>-1.643540</td>\n",
       "    </tr>\n",
       "    <tr>\n",
       "      <th>1993</th>\n",
       "      <td>19.957717</td>\n",
       "      <td>-2.525573</td>\n",
       "    </tr>\n",
       "    <tr>\n",
       "      <th>1994</th>\n",
       "      <td>19.687235</td>\n",
       "      <td>-1.355274</td>\n",
       "    </tr>\n",
       "  </tbody>\n",
       "</table>\n",
       "</div>"
      ],
      "text/plain": [
       "      Oil (mmbpd)  % Change\n",
       "Year                       \n",
       "1990    21.037267  0.000000\n",
       "1991    20.816959 -1.047232\n",
       "1992    20.474823 -1.643540\n",
       "1993    19.957717 -2.525573\n",
       "1994    19.687235 -1.355274"
      ]
     },
     "execution_count": 221,
     "metadata": {},
     "output_type": "execute_result"
    }
   ],
   "source": [
    "# Create DataFrame displaying annual percent change\n",
    "petroleum_consumption_mmbpd_df = pd.DataFrame({\n",
    "    'Year': years[0:31],\n",
    "    'Oil (mmbpd)': petroleum_consumption[0:31],\n",
    "    '% Change': percent_change_petro\n",
    "})\n",
    "petroleum_consumption_mmbpd_df.set_index(\"Year\").head()"
   ]
  },
  {
   "cell_type": "code",
   "execution_count": 222,
   "metadata": {},
   "outputs": [
    {
     "data": {
      "text/plain": [
       "Year           6.419997e+121\n",
       "Oil (mmbpd)     1.920080e+01\n",
       "% Change       -6.665008e-01\n",
       "dtype: float64"
      ]
     },
     "execution_count": 222,
     "metadata": {},
     "output_type": "execute_result"
    }
   ],
   "source": [
    "# Calculate the Average Change over thirty years of consumption data\n",
    "petroleum_consumption_mmbpd_df.mean()"
   ]
  },
  {
   "cell_type": "code",
   "execution_count": 223,
   "metadata": {},
   "outputs": [],
   "source": [
    "#  Export file as a CSV, without the Pandas index, but with the header\n",
    "# petroleum_consumption_mmbpd_df.to_csv(\"Resources/PetroleumConsumption.csv\", index=True, header=True)"
   ]
  },
  {
   "cell_type": "code",
   "execution_count": 224,
   "metadata": {},
   "outputs": [],
   "source": [
    "# Average mmbpd consumed from 1990 - 2005?"
   ]
  },
  {
   "cell_type": "code",
   "execution_count": 225,
   "metadata": {},
   "outputs": [],
   "source": [
    "# Average mmbpd consumed from 2005 - present?"
   ]
  },
  {
   "cell_type": "code",
   "execution_count": 226,
   "metadata": {},
   "outputs": [
    {
     "data": {
      "image/png": "[encoded data removed]",
      "text/plain": [
       "<Figure size 1440x720 with 1 Axes>"
      ]
     },
     "metadata": {
      "needs_background": "light"
     },
     "output_type": "display_data"
    }
   ],
   "source": [
    "# Total Petroleum and Other Liquids Product Supplied, Annual\n",
    "plt.figure(figsize=(20,10))\n",
    "\n",
    "# Create a visual for the data\n",
    "plt.scatter(years, petroleum, color=\"red\", edgecolors=\"black\")\n",
    "plt.plot(years, petroleum, linewidth=1.75, color=\"red\")\n",
    "plt.title(\"Total Petroleum and Other Liquids Product Supplied, Annual\")\n",
    "plt.ylabel(\"Million Barrels/Day\")\n",
    "plt.xlabel(\"Years\")\n",
    "plt.grid(True)\n",
    "\n",
    "plt.show()"
   ]
  },
  {
   "cell_type": "code",
   "execution_count": 227,
   "metadata": {},
   "outputs": [],
   "source": [
    "# US Natural Gas Consumption, Annual\n",
    "natural_gas_url = \"http://api.eia.gov/series/?api_key=\" + api_key + \"&series_id=STEO.NGTCPUS.A\""
   ]
  },
  {
   "cell_type": "code",
   "execution_count": 228,
   "metadata": {},
   "outputs": [
    {
     "name": "stdout",
     "output_type": "stream",
     "text": [
      "<Response [200]>\n"
     ]
    }
   ],
   "source": [
    "print(requests.get(natural_gas_url))"
   ]
  },
  {
   "cell_type": "code",
   "execution_count": 229,
   "metadata": {},
   "outputs": [],
   "source": [
    "response = requests.get(natural_gas_url).json()"
   ]
  },
  {
   "cell_type": "code",
   "execution_count": 230,
   "metadata": {},
   "outputs": [],
   "source": [
    "# print(json.dumps(response, indent=2, sort_keys=True))"
   ]
  },
  {
   "cell_type": "code",
   "execution_count": 231,
   "metadata": {},
   "outputs": [],
   "source": [
    "# US Natural Gas Consumption, Annual\n",
    "# Create lists to determine x and y axis for graphs\n",
    "years = []\n",
    "natural_gas_consumption = []\n",
    "\n",
    "# Loop through Natural Gas API to call data being measured\n",
    "for x in response[\"series\"][0][\"data\"]:\n",
    "    years.append(x[0])\n",
    "    natural_gas_consumption.append(x[1])\n",
    "    \n",
    "#values = response[\"series\"][0][\"data\"][1]\n",
    "years  = years[::-1]\n",
    "natural_gas = natural_gas_consumption[::-1]"
   ]
  },
  {
   "cell_type": "code",
   "execution_count": 232,
   "metadata": {},
   "outputs": [],
   "source": [
    "# Loop through to calculate the annual percent change\n",
    "i = 0\n",
    "percent_change_natgas = []\n",
    "for x in natural_gas_consumption:\n",
    "    if(i == 0):\n",
    "        percent_change_natgas.append(0)\n",
    "    else:\n",
    "        percent_change_natgas.append( (x - natural_gas_consumption[i-1])/ natural_gas_consumption[i-1] * 100)\n",
    "    i += 1"
   ]
  },
  {
   "cell_type": "code",
   "execution_count": 233,
   "metadata": {},
   "outputs": [
    {
     "data": {
      "text/html": [
       "<div>\n",
       "<style scoped>\n",
       "    .dataframe tbody tr th:only-of-type {\n",
       "        vertical-align: middle;\n",
       "    }\n",
       "\n",
       "    .dataframe tbody tr th {\n",
       "        vertical-align: top;\n",
       "    }\n",
       "\n",
       "    .dataframe thead th {\n",
       "        text-align: right;\n",
       "    }\n",
       "</style>\n",
       "<table border=\"1\" class=\"dataframe\">\n",
       "  <thead>\n",
       "    <tr style=\"text-align: right;\">\n",
       "      <th></th>\n",
       "      <th>NG (bcf/day)</th>\n",
       "      <th>% Change</th>\n",
       "    </tr>\n",
       "    <tr>\n",
       "      <th>Year</th>\n",
       "      <th></th>\n",
       "      <th></th>\n",
       "    </tr>\n",
       "  </thead>\n",
       "  <tbody>\n",
       "    <tr>\n",
       "      <th>1990</th>\n",
       "      <td>83.564262</td>\n",
       "      <td>0.000000</td>\n",
       "    </tr>\n",
       "    <tr>\n",
       "      <th>1991</th>\n",
       "      <td>82.531238</td>\n",
       "      <td>-1.236203</td>\n",
       "    </tr>\n",
       "    <tr>\n",
       "      <th>1992</th>\n",
       "      <td>81.681260</td>\n",
       "      <td>-1.029887</td>\n",
       "    </tr>\n",
       "    <tr>\n",
       "      <th>1993</th>\n",
       "      <td>74.317060</td>\n",
       "      <td>-9.015777</td>\n",
       "    </tr>\n",
       "    <tr>\n",
       "      <th>1994</th>\n",
       "      <td>74.984129</td>\n",
       "      <td>0.897598</td>\n",
       "    </tr>\n",
       "  </tbody>\n",
       "</table>\n",
       "</div>"
      ],
      "text/plain": [
       "      NG (bcf/day)  % Change\n",
       "Year                        \n",
       "1990     83.564262  0.000000\n",
       "1991     82.531238 -1.236203\n",
       "1992     81.681260 -1.029887\n",
       "1993     74.317060 -9.015777\n",
       "1994     74.984129  0.897598"
      ]
     },
     "execution_count": 233,
     "metadata": {},
     "output_type": "execute_result"
    }
   ],
   "source": [
    "# Determine year to year percent change\n",
    "ng_consumption_bcf_df = pd.DataFrame({\n",
    "    'Year': years[0:31],\n",
    "    'NG (bcf/day)': natural_gas_consumption[0:31],\n",
    "    '% Change': percent_change_natgas\n",
    "})\n",
    "ng_consumption_bcf_df.set_index(\"Year\").head()"
   ]
  },
  {
   "cell_type": "code",
   "execution_count": 234,
   "metadata": {},
   "outputs": [
    {
     "data": {
      "text/plain": [
       "Year            6.419997e+121\n",
       "NG (bcf/day)     6.523577e+01\n",
       "% Change        -1.448120e+00\n",
       "dtype: float64"
      ]
     },
     "execution_count": 234,
     "metadata": {},
     "output_type": "execute_result"
    }
   ],
   "source": [
    "# calculate average percent change over thirty years\n",
    "ng_consumption_bcf_df.mean()"
   ]
  },
  {
   "cell_type": "code",
   "execution_count": 235,
   "metadata": {},
   "outputs": [],
   "source": [
    "#  Export file as a CSV, without the Pandas index, but with the header\n",
    "# ng_consumption_bcf_df.to_csv(\"Resources/NaturalGasConsumption.csv\", index=True, header=True)"
   ]
  },
  {
   "cell_type": "code",
   "execution_count": 236,
   "metadata": {},
   "outputs": [
    {
     "data": {
      "image/png": "[encoded data removed]",
      "text/plain": [
       "<Figure size 1440x720 with 1 Axes>"
      ]
     },
     "metadata": {
      "needs_background": "light"
     },
     "output_type": "display_data"
    }
   ],
   "source": [
    "# Set the size of the figure to fit 30 years of data\n",
    "plt.figure(figsize=(20,10))\n",
    "\n",
    "# Create a visual for the data\n",
    "plt.scatter(years, natural_gas, color=\"brown\", edgecolors=\"black\")\n",
    "plt.plot(years, natural_gas, linewidth=1.75, color=\"blue\")\n",
    "plt.title(\"US Natural Gas Consumption, Annual\")\n",
    "plt.ylabel(\"Billion Cubic Ft/Day\")\n",
    "plt.xlabel(\"Years\")\n",
    "plt.grid(True)\n",
    "\n",
    "plt.show()"
   ]
  },
  {
   "cell_type": "code",
   "execution_count": 237,
   "metadata": {},
   "outputs": [],
   "source": [
    "# US Total Coal Supply, Annual\n",
    "coal_url = \"http://api.eia.gov/series/?api_key=\" + api_key + \"&series_id=STEO.CLTSPUS_TON.A\""
   ]
  },
  {
   "cell_type": "code",
   "execution_count": 238,
   "metadata": {},
   "outputs": [
    {
     "name": "stdout",
     "output_type": "stream",
     "text": [
      "<Response [200]>\n"
     ]
    }
   ],
   "source": [
    "print(requests.get(coal_url))"
   ]
  },
  {
   "cell_type": "code",
   "execution_count": 239,
   "metadata": {},
   "outputs": [],
   "source": [
    "response = requests.get(coal_url).json()"
   ]
  },
  {
   "cell_type": "code",
   "execution_count": 240,
   "metadata": {},
   "outputs": [],
   "source": [
    "# print(json.dumps(response, indent=2, sort_keys=True))"
   ]
  },
  {
   "cell_type": "code",
   "execution_count": 241,
   "metadata": {},
   "outputs": [],
   "source": [
    "# US Total Coal Supply, Annual\n",
    "# Create lists to determine x and y axis for graphs\n",
    "years = []\n",
    "coal_supply = []\n",
    "\n",
    "# Loop through Natural Gas API to call data being measured\n",
    "for x in response[\"series\"][0][\"data\"]:\n",
    "    years.append(x[0])\n",
    "    coal_supply.append(x[1])\n",
    "    \n",
    "#values = response[\"series\"][0][\"data\"][1]\n",
    "years  = years[::-1]\n",
    "coal = coal_supply[::-1]"
   ]
  },
  {
   "cell_type": "code",
   "execution_count": 242,
   "metadata": {},
   "outputs": [],
   "source": [
    "# Loop through to calculate the annual percent change\n",
    "i = 0\n",
    "percent_change_coal = []\n",
    "for x in coal_supply:\n",
    "    if(i == 0):\n",
    "        percent_change_coal.append(0)\n",
    "    else:\n",
    "        percent_change_coal.append( (x - coal_supply[i-1])/ coal_supply[i-1] * 100)\n",
    "    i += 1"
   ]
  },
  {
   "cell_type": "code",
   "execution_count": 243,
   "metadata": {},
   "outputs": [
    {
     "data": {
      "text/html": [
       "<div>\n",
       "<style scoped>\n",
       "    .dataframe tbody tr th:only-of-type {\n",
       "        vertical-align: middle;\n",
       "    }\n",
       "\n",
       "    .dataframe tbody tr th {\n",
       "        vertical-align: top;\n",
       "    }\n",
       "\n",
       "    .dataframe thead th {\n",
       "        text-align: right;\n",
       "    }\n",
       "</style>\n",
       "<table border=\"1\" class=\"dataframe\">\n",
       "  <thead>\n",
       "    <tr style=\"text-align: right;\">\n",
       "      <th></th>\n",
       "      <th>coal (MMSt)</th>\n",
       "      <th>% Change</th>\n",
       "    </tr>\n",
       "    <tr>\n",
       "      <th>Year</th>\n",
       "      <th></th>\n",
       "      <th></th>\n",
       "    </tr>\n",
       "  </thead>\n",
       "  <tbody>\n",
       "    <tr>\n",
       "      <th>1990</th>\n",
       "      <td>599.214620</td>\n",
       "      <td>0.000000</td>\n",
       "    </tr>\n",
       "    <tr>\n",
       "      <th>1991</th>\n",
       "      <td>632.670612</td>\n",
       "      <td>5.583307</td>\n",
       "    </tr>\n",
       "    <tr>\n",
       "      <th>1992</th>\n",
       "      <td>687.697499</td>\n",
       "      <td>8.697557</td>\n",
       "    </tr>\n",
       "    <tr>\n",
       "      <th>1993</th>\n",
       "      <td>721.417976</td>\n",
       "      <td>4.903388</td>\n",
       "    </tr>\n",
       "    <tr>\n",
       "      <th>1994</th>\n",
       "      <td>733.519456</td>\n",
       "      <td>1.677458</td>\n",
       "    </tr>\n",
       "  </tbody>\n",
       "</table>\n",
       "</div>"
      ],
      "text/plain": [
       "      coal (MMSt)  % Change\n",
       "Year                       \n",
       "1990   599.214620  0.000000\n",
       "1991   632.670612  5.583307\n",
       "1992   687.697499  8.697557\n",
       "1993   721.417976  4.903388\n",
       "1994   733.519456  1.677458"
      ]
     },
     "execution_count": 243,
     "metadata": {},
     "output_type": "execute_result"
    }
   ],
   "source": [
    "# Determine year to year percent change\n",
    "coal_consumption_mst_df = pd.DataFrame({\n",
    "    'Year': years[0:31],\n",
    "    'coal (MMSt)': coal_supply[0:31],\n",
    "    '% Change': percent_change_coal\n",
    "})\n",
    "coal_consumption_mst_df.set_index(\"Year\").head()"
   ]
  },
  {
   "cell_type": "code",
   "execution_count": 244,
   "metadata": {},
   "outputs": [
    {
     "data": {
      "text/plain": [
       "Year           6.419997e+121\n",
       "coal (MMSt)     9.557265e+02\n",
       "% Change        1.451245e+00\n",
       "dtype: float64"
      ]
     },
     "execution_count": 244,
     "metadata": {},
     "output_type": "execute_result"
    }
   ],
   "source": [
    "# Calculate average percent change\n",
    "coal_consumption_mst_df.mean()"
   ]
  },
  {
   "cell_type": "code",
   "execution_count": 245,
   "metadata": {},
   "outputs": [],
   "source": [
    "#  Export file as a CSV, without the Pandas index, but with the header\n",
    "# coal_consumption_mst_df.to_csv(\"Resources/CoalConsumption.csv\", index=True, header=True)"
   ]
  },
  {
   "cell_type": "code",
   "execution_count": 246,
   "metadata": {},
   "outputs": [
    {
     "data": {
      "image/png": "[encoded data removed]",
      "text/plain": [
       "<Figure size 1440x720 with 1 Axes>"
      ]
     },
     "metadata": {
      "needs_background": "light"
     },
     "output_type": "display_data"
    }
   ],
   "source": [
    "# Set the size of the figure to fit 30 years of data\n",
    "plt.figure(figsize=(20,10))\n",
    "\n",
    "# Create a visual for the data\n",
    "plt.scatter(years, coal, color=\"brown\", edgecolors=\"black\")\n",
    "plt.plot(years, coal, linewidth=1.75, color=\"brown\")\n",
    "plt.title(\"Total Coal Supply, Annual\")\n",
    "plt.ylabel(\"Million Short Tons\")\n",
    "plt.xlabel(\"Years\")\n",
    "plt.grid(True)\n",
    "\n",
    "plt.show()"
   ]
  },
  {
   "cell_type": "code",
   "execution_count": 247,
   "metadata": {},
   "outputs": [
    {
     "data": {
      "text/html": [
       "<div>\n",
       "<style scoped>\n",
       "    .dataframe tbody tr th:only-of-type {\n",
       "        vertical-align: middle;\n",
       "    }\n",
       "\n",
       "    .dataframe tbody tr th {\n",
       "        vertical-align: top;\n",
       "    }\n",
       "\n",
       "    .dataframe thead th {\n",
       "        text-align: right;\n",
       "    }\n",
       "</style>\n",
       "<table border=\"1\" class=\"dataframe\">\n",
       "  <thead>\n",
       "    <tr style=\"text-align: right;\">\n",
       "      <th></th>\n",
       "      <th>Petroleum (mmbpd)</th>\n",
       "      <th>Natural Gas (bcf/day)</th>\n",
       "      <th>Coal (MMSt)</th>\n",
       "    </tr>\n",
       "    <tr>\n",
       "      <th>Year</th>\n",
       "      <th></th>\n",
       "      <th></th>\n",
       "      <th></th>\n",
       "    </tr>\n",
       "  </thead>\n",
       "  <tbody>\n",
       "    <tr>\n",
       "      <th>1990</th>\n",
       "      <td>16.989137</td>\n",
       "      <td>52.530288</td>\n",
       "      <td>902.768744</td>\n",
       "    </tr>\n",
       "    <tr>\n",
       "      <th>1991</th>\n",
       "      <td>16.713847</td>\n",
       "      <td>53.594703</td>\n",
       "      <td>895.303788</td>\n",
       "    </tr>\n",
       "    <tr>\n",
       "      <th>1992</th>\n",
       "      <td>17.032224</td>\n",
       "      <td>55.268382</td>\n",
       "      <td>908.113844</td>\n",
       "    </tr>\n",
       "    <tr>\n",
       "      <th>1993</th>\n",
       "      <td>17.236999</td>\n",
       "      <td>56.958472</td>\n",
       "      <td>939.165111</td>\n",
       "    </tr>\n",
       "    <tr>\n",
       "      <th>1994</th>\n",
       "      <td>17.718979</td>\n",
       "      <td>58.211229</td>\n",
       "      <td>955.626226</td>\n",
       "    </tr>\n",
       "    <tr>\n",
       "      <th>1995</th>\n",
       "      <td>17.724571</td>\n",
       "      <td>60.840793</td>\n",
       "      <td>962.736259</td>\n",
       "    </tr>\n",
       "    <tr>\n",
       "      <th>1996</th>\n",
       "      <td>18.309109</td>\n",
       "      <td>61.773442</td>\n",
       "      <td>1007.733406</td>\n",
       "    </tr>\n",
       "    <tr>\n",
       "      <th>1997</th>\n",
       "      <td>18.620302</td>\n",
       "      <td>62.294088</td>\n",
       "      <td>1033.221470</td>\n",
       "    </tr>\n",
       "    <tr>\n",
       "      <th>1998</th>\n",
       "      <td>18.917022</td>\n",
       "      <td>60.947825</td>\n",
       "      <td>1032.672650</td>\n",
       "    </tr>\n",
       "    <tr>\n",
       "      <th>1999</th>\n",
       "      <td>19.519432</td>\n",
       "      <td>61.384995</td>\n",
       "      <td>1035.740304</td>\n",
       "    </tr>\n",
       "    <tr>\n",
       "      <th>2000</th>\n",
       "      <td>19.701119</td>\n",
       "      <td>63.757540</td>\n",
       "      <td>1085.032590</td>\n",
       "    </tr>\n",
       "    <tr>\n",
       "      <th>2001</th>\n",
       "      <td>19.648520</td>\n",
       "      <td>60.927744</td>\n",
       "      <td>1067.265239</td>\n",
       "    </tr>\n",
       "    <tr>\n",
       "      <th>2002</th>\n",
       "      <td>19.761645</td>\n",
       "      <td>63.087741</td>\n",
       "      <td>1070.394756</td>\n",
       "    </tr>\n",
       "    <tr>\n",
       "      <th>2003</th>\n",
       "      <td>20.033592</td>\n",
       "      <td>61.031505</td>\n",
       "      <td>1090.458028</td>\n",
       "    </tr>\n",
       "    <tr>\n",
       "      <th>2004</th>\n",
       "      <td>20.731123</td>\n",
       "      <td>61.209136</td>\n",
       "      <td>1114.141670</td>\n",
       "    </tr>\n",
       "    <tr>\n",
       "      <th>2005</th>\n",
       "      <td>20.802152</td>\n",
       "      <td>60.313535</td>\n",
       "      <td>1135.069920</td>\n",
       "    </tr>\n",
       "    <tr>\n",
       "      <th>2006</th>\n",
       "      <td>20.687475</td>\n",
       "      <td>59.449507</td>\n",
       "      <td>1121.115532</td>\n",
       "    </tr>\n",
       "    <tr>\n",
       "      <th>2007</th>\n",
       "      <td>20.680369</td>\n",
       "      <td>63.297987</td>\n",
       "      <td>1132.083565</td>\n",
       "    </tr>\n",
       "    <tr>\n",
       "      <th>2008</th>\n",
       "      <td>19.497954</td>\n",
       "      <td>63.598286</td>\n",
       "      <td>1126.288328</td>\n",
       "    </tr>\n",
       "    <tr>\n",
       "      <th>2009</th>\n",
       "      <td>18.771391</td>\n",
       "      <td>62.767244</td>\n",
       "      <td>1012.462846</td>\n",
       "    </tr>\n",
       "    <tr>\n",
       "      <th>2010</th>\n",
       "      <td>19.180114</td>\n",
       "      <td>65.991141</td>\n",
       "      <td>1048.695744</td>\n",
       "    </tr>\n",
       "    <tr>\n",
       "      <th>2011</th>\n",
       "      <td>18.886688</td>\n",
       "      <td>67.061343</td>\n",
       "      <td>1014.454534</td>\n",
       "    </tr>\n",
       "    <tr>\n",
       "      <th>2012</th>\n",
       "      <td>18.486649</td>\n",
       "      <td>69.777204</td>\n",
       "      <td>904.165590</td>\n",
       "    </tr>\n",
       "    <tr>\n",
       "      <th>2013</th>\n",
       "      <td>18.966860</td>\n",
       "      <td>71.657648</td>\n",
       "      <td>925.893046</td>\n",
       "    </tr>\n",
       "    <tr>\n",
       "      <th>2014</th>\n",
       "      <td>19.100074</td>\n",
       "      <td>72.858455</td>\n",
       "      <td>928.832869</td>\n",
       "    </tr>\n",
       "    <tr>\n",
       "      <th>2015</th>\n",
       "      <td>19.533503</td>\n",
       "      <td>74.640617</td>\n",
       "      <td>803.566248</td>\n",
       "    </tr>\n",
       "    <tr>\n",
       "      <th>2016</th>\n",
       "      <td>19.687235</td>\n",
       "      <td>74.984129</td>\n",
       "      <td>733.519456</td>\n",
       "    </tr>\n",
       "    <tr>\n",
       "      <th>2017</th>\n",
       "      <td>19.957717</td>\n",
       "      <td>74.317060</td>\n",
       "      <td>721.417976</td>\n",
       "    </tr>\n",
       "    <tr>\n",
       "      <th>2018</th>\n",
       "      <td>20.474823</td>\n",
       "      <td>81.681260</td>\n",
       "      <td>687.697499</td>\n",
       "    </tr>\n",
       "    <tr>\n",
       "      <th>2019</th>\n",
       "      <td>20.816959</td>\n",
       "      <td>82.531238</td>\n",
       "      <td>632.670612</td>\n",
       "    </tr>\n",
       "    <tr>\n",
       "      <th>2020</th>\n",
       "      <td>21.037267</td>\n",
       "      <td>83.564262</td>\n",
       "      <td>599.214620</td>\n",
       "    </tr>\n",
       "  </tbody>\n",
       "</table>\n",
       "</div>"
      ],
      "text/plain": [
       "      Petroleum (mmbpd)  Natural Gas (bcf/day)  Coal (MMSt)\n",
       "Year                                                       \n",
       "1990          16.989137              52.530288   902.768744\n",
       "1991          16.713847              53.594703   895.303788\n",
       "1992          17.032224              55.268382   908.113844\n",
       "1993          17.236999              56.958472   939.165111\n",
       "1994          17.718979              58.211229   955.626226\n",
       "1995          17.724571              60.840793   962.736259\n",
       "1996          18.309109              61.773442  1007.733406\n",
       "1997          18.620302              62.294088  1033.221470\n",
       "1998          18.917022              60.947825  1032.672650\n",
       "1999          19.519432              61.384995  1035.740304\n",
       "2000          19.701119              63.757540  1085.032590\n",
       "2001          19.648520              60.927744  1067.265239\n",
       "2002          19.761645              63.087741  1070.394756\n",
       "2003          20.033592              61.031505  1090.458028\n",
       "2004          20.731123              61.209136  1114.141670\n",
       "2005          20.802152              60.313535  1135.069920\n",
       "2006          20.687475              59.449507  1121.115532\n",
       "2007          20.680369              63.297987  1132.083565\n",
       "2008          19.497954              63.598286  1126.288328\n",
       "2009          18.771391              62.767244  1012.462846\n",
       "2010          19.180114              65.991141  1048.695744\n",
       "2011          18.886688              67.061343  1014.454534\n",
       "2012          18.486649              69.777204   904.165590\n",
       "2013          18.966860              71.657648   925.893046\n",
       "2014          19.100074              72.858455   928.832869\n",
       "2015          19.533503              74.640617   803.566248\n",
       "2016          19.687235              74.984129   733.519456\n",
       "2017          19.957717              74.317060   721.417976\n",
       "2018          20.474823              81.681260   687.697499\n",
       "2019          20.816959              82.531238   632.670612\n",
       "2020          21.037267              83.564262   599.214620"
      ]
     },
     "execution_count": 247,
     "metadata": {},
     "output_type": "execute_result"
    }
   ],
   "source": [
    "# Create Combined FossilFuel DataFrame using list of dictionaries method\n",
    "renewable_consumption_df = pd.DataFrame({\n",
    "    'Year': years[0:31],\n",
    "    'Petroleum (mmbpd)': petroleum[0:31],\n",
    "    'Natural Gas (bcf/day)': natural_gas[0:31],\n",
    "    'Coal (MMSt)': coal[0:31],\n",
    "})\n",
    "# Display DataFrame\n",
    "renewable_consumption_btu_df.set_index(\"Year\")"
   ]
  },
  {
   "cell_type": "code",
   "execution_count": 248,
   "metadata": {},
   "outputs": [],
   "source": [
    "#  Export file as a CSV, without the Pandas index, but with the header\n",
    "# renewable_consumption_btu_df.to_csv(\"Resources/FossilFuelConsumption.csv\", index=True, header=True)"
   ]
  },
  {
   "cell_type": "code",
   "execution_count": 249,
   "metadata": {},
   "outputs": [
    {
     "data": {
      "text/html": [
       "<div>\n",
       "<style scoped>\n",
       "    .dataframe tbody tr th:only-of-type {\n",
       "        vertical-align: middle;\n",
       "    }\n",
       "\n",
       "    .dataframe tbody tr th {\n",
       "        vertical-align: top;\n",
       "    }\n",
       "\n",
       "    .dataframe thead th {\n",
       "        text-align: right;\n",
       "    }\n",
       "</style>\n",
       "<table border=\"1\" class=\"dataframe\">\n",
       "  <thead>\n",
       "    <tr style=\"text-align: right;\">\n",
       "      <th></th>\n",
       "      <th>PetNorm</th>\n",
       "      <th>NatGasNorm</th>\n",
       "      <th>CoalNorm</th>\n",
       "    </tr>\n",
       "  </thead>\n",
       "  <tbody>\n",
       "    <tr>\n",
       "      <th>0</th>\n",
       "      <td>0.063674</td>\n",
       "      <td>0.000000</td>\n",
       "      <td>0.566485</td>\n",
       "    </tr>\n",
       "    <tr>\n",
       "      <th>1</th>\n",
       "      <td>0.000000</td>\n",
       "      <td>0.034298</td>\n",
       "      <td>0.552554</td>\n",
       "    </tr>\n",
       "    <tr>\n",
       "      <th>2</th>\n",
       "      <td>0.073640</td>\n",
       "      <td>0.088229</td>\n",
       "      <td>0.576460</td>\n",
       "    </tr>\n",
       "    <tr>\n",
       "      <th>3</th>\n",
       "      <td>0.121004</td>\n",
       "      <td>0.142688</td>\n",
       "      <td>0.634407</td>\n",
       "    </tr>\n",
       "    <tr>\n",
       "      <th>4</th>\n",
       "      <td>0.232485</td>\n",
       "      <td>0.183056</td>\n",
       "      <td>0.665127</td>\n",
       "    </tr>\n",
       "    <tr>\n",
       "      <th>5</th>\n",
       "      <td>0.233779</td>\n",
       "      <td>0.267787</td>\n",
       "      <td>0.678395</td>\n",
       "    </tr>\n",
       "    <tr>\n",
       "      <th>6</th>\n",
       "      <td>0.368982</td>\n",
       "      <td>0.297840</td>\n",
       "      <td>0.762368</td>\n",
       "    </tr>\n",
       "    <tr>\n",
       "      <th>7</th>\n",
       "      <td>0.440960</td>\n",
       "      <td>0.314617</td>\n",
       "      <td>0.809933</td>\n",
       "    </tr>\n",
       "    <tr>\n",
       "      <th>8</th>\n",
       "      <td>0.509591</td>\n",
       "      <td>0.271236</td>\n",
       "      <td>0.808909</td>\n",
       "    </tr>\n",
       "    <tr>\n",
       "      <th>9</th>\n",
       "      <td>0.648927</td>\n",
       "      <td>0.285323</td>\n",
       "      <td>0.814634</td>\n",
       "    </tr>\n",
       "    <tr>\n",
       "      <th>10</th>\n",
       "      <td>0.690951</td>\n",
       "      <td>0.361773</td>\n",
       "      <td>0.906622</td>\n",
       "    </tr>\n",
       "    <tr>\n",
       "      <th>11</th>\n",
       "      <td>0.678785</td>\n",
       "      <td>0.270589</td>\n",
       "      <td>0.873465</td>\n",
       "    </tr>\n",
       "    <tr>\n",
       "      <th>12</th>\n",
       "      <td>0.704951</td>\n",
       "      <td>0.340190</td>\n",
       "      <td>0.879305</td>\n",
       "    </tr>\n",
       "    <tr>\n",
       "      <th>13</th>\n",
       "      <td>0.767852</td>\n",
       "      <td>0.273933</td>\n",
       "      <td>0.916746</td>\n",
       "    </tr>\n",
       "    <tr>\n",
       "      <th>14</th>\n",
       "      <td>0.929189</td>\n",
       "      <td>0.279656</td>\n",
       "      <td>0.960944</td>\n",
       "    </tr>\n",
       "    <tr>\n",
       "      <th>15</th>\n",
       "      <td>0.945618</td>\n",
       "      <td>0.250798</td>\n",
       "      <td>1.000000</td>\n",
       "    </tr>\n",
       "    <tr>\n",
       "      <th>16</th>\n",
       "      <td>0.919094</td>\n",
       "      <td>0.222956</td>\n",
       "      <td>0.973959</td>\n",
       "    </tr>\n",
       "    <tr>\n",
       "      <th>17</th>\n",
       "      <td>0.917450</td>\n",
       "      <td>0.346965</td>\n",
       "      <td>0.994427</td>\n",
       "    </tr>\n",
       "    <tr>\n",
       "      <th>18</th>\n",
       "      <td>0.643959</td>\n",
       "      <td>0.356641</td>\n",
       "      <td>0.983612</td>\n",
       "    </tr>\n",
       "    <tr>\n",
       "      <th>19</th>\n",
       "      <td>0.475907</td>\n",
       "      <td>0.329863</td>\n",
       "      <td>0.771194</td>\n",
       "    </tr>\n",
       "    <tr>\n",
       "      <th>20</th>\n",
       "      <td>0.570443</td>\n",
       "      <td>0.433746</td>\n",
       "      <td>0.838811</td>\n",
       "    </tr>\n",
       "    <tr>\n",
       "      <th>21</th>\n",
       "      <td>0.502574</td>\n",
       "      <td>0.468231</td>\n",
       "      <td>0.774911</td>\n",
       "    </tr>\n",
       "    <tr>\n",
       "      <th>22</th>\n",
       "      <td>0.410046</td>\n",
       "      <td>0.555743</td>\n",
       "      <td>0.569092</td>\n",
       "    </tr>\n",
       "    <tr>\n",
       "      <th>23</th>\n",
       "      <td>0.521118</td>\n",
       "      <td>0.616336</td>\n",
       "      <td>0.609639</td>\n",
       "    </tr>\n",
       "    <tr>\n",
       "      <th>24</th>\n",
       "      <td>0.551930</td>\n",
       "      <td>0.655029</td>\n",
       "      <td>0.615125</td>\n",
       "    </tr>\n",
       "    <tr>\n",
       "      <th>25</th>\n",
       "      <td>0.652182</td>\n",
       "      <td>0.712456</td>\n",
       "      <td>0.381356</td>\n",
       "    </tr>\n",
       "    <tr>\n",
       "      <th>26</th>\n",
       "      <td>0.687740</td>\n",
       "      <td>0.723524</td>\n",
       "      <td>0.250636</td>\n",
       "    </tr>\n",
       "    <tr>\n",
       "      <th>27</th>\n",
       "      <td>0.750302</td>\n",
       "      <td>0.702030</td>\n",
       "      <td>0.228053</td>\n",
       "    </tr>\n",
       "    <tr>\n",
       "      <th>28</th>\n",
       "      <td>0.869908</td>\n",
       "      <td>0.939324</td>\n",
       "      <td>0.165125</td>\n",
       "    </tr>\n",
       "    <tr>\n",
       "      <th>29</th>\n",
       "      <td>0.949043</td>\n",
       "      <td>0.966713</td>\n",
       "      <td>0.062435</td>\n",
       "    </tr>\n",
       "    <tr>\n",
       "      <th>30</th>\n",
       "      <td>1.000000</td>\n",
       "      <td>1.000000</td>\n",
       "      <td>0.000000</td>\n",
       "    </tr>\n",
       "  </tbody>\n",
       "</table>\n",
       "</div>"
      ],
      "text/plain": [
       "     PetNorm  NatGasNorm  CoalNorm\n",
       "0   0.063674    0.000000  0.566485\n",
       "1   0.000000    0.034298  0.552554\n",
       "2   0.073640    0.088229  0.576460\n",
       "3   0.121004    0.142688  0.634407\n",
       "4   0.232485    0.183056  0.665127\n",
       "5   0.233779    0.267787  0.678395\n",
       "6   0.368982    0.297840  0.762368\n",
       "7   0.440960    0.314617  0.809933\n",
       "8   0.509591    0.271236  0.808909\n",
       "9   0.648927    0.285323  0.814634\n",
       "10  0.690951    0.361773  0.906622\n",
       "11  0.678785    0.270589  0.873465\n",
       "12  0.704951    0.340190  0.879305\n",
       "13  0.767852    0.273933  0.916746\n",
       "14  0.929189    0.279656  0.960944\n",
       "15  0.945618    0.250798  1.000000\n",
       "16  0.919094    0.222956  0.973959\n",
       "17  0.917450    0.346965  0.994427\n",
       "18  0.643959    0.356641  0.983612\n",
       "19  0.475907    0.329863  0.771194\n",
       "20  0.570443    0.433746  0.838811\n",
       "21  0.502574    0.468231  0.774911\n",
       "22  0.410046    0.555743  0.569092\n",
       "23  0.521118    0.616336  0.609639\n",
       "24  0.551930    0.655029  0.615125\n",
       "25  0.652182    0.712456  0.381356\n",
       "26  0.687740    0.723524  0.250636\n",
       "27  0.750302    0.702030  0.228053\n",
       "28  0.869908    0.939324  0.165125\n",
       "29  0.949043    0.966713  0.062435\n",
       "30  1.000000    1.000000  0.000000"
      ]
     },
     "execution_count": 249,
     "metadata": {},
     "output_type": "execute_result"
    }
   ],
   "source": [
    "# Normalize values for the different types of fossil fuels\n",
    "x = renewable_consumption_btu_df[['Petroleum (mmbpd)','Natural Gas (bcf/day)', 'Coal (MMSt)']].values.astype(float) #returns a numpy array\n",
    "min_max_scaler = preprocessing.MinMaxScaler()\n",
    "x_scaled = min_max_scaler.fit_transform(x)\n",
    "#df = pandas.DataFrame(x_scaled)\n",
    "fossil_fuel_consumption_normdf = pd.DataFrame(x_scaled, columns=['PetNorm', 'NatGasNorm', 'CoalNorm'])\n",
    "fossil_fuel_consumption_normdf"
   ]
  },
  {
   "cell_type": "code",
   "execution_count": 250,
   "metadata": {},
   "outputs": [],
   "source": [
    "#  Export file as a CSV, without the Pandas index, but with the header\n",
    "# fossil_fuel_consumption_normdf.to_csv(\"Resources/FossilFuelConsumptionNormValues.csv\", index=False, header=True)"
   ]
  },
  {
   "cell_type": "code",
   "execution_count": 251,
   "metadata": {},
   "outputs": [],
   "source": [
    "# np.array(renewable_consumption_btu_df['Petroleum (mmbpd)'])"
   ]
  },
  {
   "cell_type": "code",
   "execution_count": 252,
   "metadata": {},
   "outputs": [
    {
     "data": {
      "image/png": "[encoded data removed]",
      "text/plain": [
       "<Figure size 1440x720 with 1 Axes>"
      ]
     },
     "metadata": {
      "needs_background": "light"
     },
     "output_type": "display_data"
    }
   ],
   "source": [
    "# US Fossil Fuel Consumption (1990 - Present)\n",
    "plt.figure(figsize=(20,10))\n",
    "\n",
    "# # Create a visual for the combined normalized fossil fuel data\n",
    "plt.plot(years, fossil_fuel_consumption_normdf['PetNorm'], color= \"blue\", linewidth=2.0)\n",
    "plt.plot(years, fossil_fuel_consumption_normdf['NatGasNorm'], color =\"green\", linewidth=2.0)\n",
    "plt.plot(years, fossil_fuel_consumption_normdf['CoalNorm'], color=\"brown\", linewidth=2.0)\n",
    "plt.title(\"US Fossil Fuel Consumption, Annual\", fontsize=\"xx-large\")\n",
    "plt.ylabel(\"Normalized Values\", fontsize=\"large\")\n",
    "plt.xlabel(\"Years\", fontsize=\"large\")\n",
    "plt.legend(loc='best', frameon=True, fancybox=True, fontsize=\"x-large\")\n",
    "# lgnd.legendHandles[1]._sizes = 30\n",
    "# lgnd.legendHandles[2]._sizes = 30\n",
    "# lgnd.legendHandles[3]._sizes = 30\n",
    "# plt.legend(handles=[world_avg, country_one], loc=\"best\")\n",
    "plt.grid(True)\n",
    "\n",
    "# lgnd = plt.legend(fontsize=\"small\", mode=\"Expanded\", \n",
    "#                   numpoints=1, scatterpoints=1, \n",
    "#                   loc=\"best\", title=\"City Types\", \n",
    "#                   labelspacing=0.5)\n",
    "# lgnd.legendHandles[\"Petroleum\"]._sizes = [30]\n",
    "# lgnd.legendHandles[\"Natural Gas\"]._sizes = [30]\n",
    "# lgnd.legendHandles[\"Coal\"]._sizes = [30]\n",
    "\n",
    "plt.show()\n",
    "\n",
    "#save figure as a png\n"
   ]
  },
  {
   "cell_type": "code",
   "execution_count": null,
   "metadata": {},
   "outputs": [],
   "source": []
  },
  {
   "cell_type": "code",
   "execution_count": null,
   "metadata": {},
   "outputs": [],
   "source": []
  },
  {
   "cell_type": "code",
   "execution_count": null,
   "metadata": {},
   "outputs": [],
   "source": []
  },
  {
   "cell_type": "code",
   "execution_count": null,
   "metadata": {},
   "outputs": [],
   "source": []
  },
  {
   "cell_type": "code",
   "execution_count": null,
   "metadata": {
    "scrolled": true
   },
   "outputs": [],
   "source": []
  },
  {
   "cell_type": "code",
   "execution_count": null,
   "metadata": {},
   "outputs": [],
   "source": []
  },
  {
   "cell_type": "code",
   "execution_count": null,
   "metadata": {},
   "outputs": [],
   "source": []
  },
  {
   "cell_type": "code",
   "execution_count": null,
   "metadata": {},
   "outputs": [],
   "source": []
  },
  {
   "cell_type": "code",
   "execution_count": null,
   "metadata": {},
   "outputs": [],
   "source": []
  },
  {
   "cell_type": "code",
   "execution_count": null,
   "metadata": {},
   "outputs": [],
   "source": []
  }
 ],
 "metadata": {
  "kernelspec": {
   "display_name": "Python 3",
   "language": "python",
   "name": "python3"
  },
  "language_info": {
   "codemirror_mode": {
    "name": "ipython",
    "version": 3
   },
   "file_extension": ".py",
   "mimetype": "text/x-python",
   "name": "python",
   "nbconvert_exporter": "python",
   "pygments_lexer": "ipython3",
   "version": "3.7.1"
  }
 },
 "nbformat": 4,
 "nbformat_minor": 2
}
