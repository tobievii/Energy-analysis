{
 "cells": [
  {
   "cell_type": "code",
   "execution_count": 1,
   "metadata": {},
   "outputs": [],
   "source": [
    "# Import dependencies\n",
    "import requests\n",
    "import json\n",
    "import pandas as pd\n",
    "import matplotlib.pyplot as plt\n",
    "import numpy as np\n",
    "from config import api_key\n",
    "from sklearn import preprocessing\n",
    "\n",
    "#api_key = \"4a60fcfe3a762ea4e4d9276f8944aa76\""
   ]
  },
  {
   "cell_type": "code",
   "execution_count": 2,
   "metadata": {},
   "outputs": [],
   "source": [
    "# Total Petroleum and Other Liquids Product Supplied, Annual data\n",
    "# URL for GET requests to retrieve Total Petroleum and Other Liquids Product Supplied, Annual data\n",
    "petroleum_url = \"http://api.eia.gov/series/?api_key=\" + api_key + \"&series_id=STEO.PATCPUSX.A\""
   ]
  },
  {
   "cell_type": "code",
   "execution_count": 3,
   "metadata": {},
   "outputs": [
    {
     "name": "stdout",
     "output_type": "stream",
     "text": [
      "<Response [200]>\n"
     ]
    }
   ],
   "source": [
    "# Print the response object to the console\n",
    "print(requests.get(petroleum_url))"
   ]
  },
  {
   "cell_type": "code",
   "execution_count": 4,
   "metadata": {},
   "outputs": [
    {
     "name": "stdout",
     "output_type": "stream",
     "text": [
      "{\n",
      "  \"request\": {\n",
      "    \"command\": \"series\",\n",
      "    \"series_id\": \"STEO.PATCPUSX.A\"\n",
      "  },\n",
      "  \"series\": [\n",
      "    {\n",
      "      \"copyright\": \"None\",\n",
      "      \"data\": [\n",
      "        [\n",
      "          \"2020\",\n",
      "          21.030747596\n",
      "        ],\n",
      "        [\n",
      "          \"2019\",\n",
      "          20.809694225\n",
      "        ],\n",
      "        [\n",
      "          \"2018\",\n",
      "          20.452870184\n",
      "        ],\n",
      "        [\n",
      "          \"2017\",\n",
      "          19.957716775\n",
      "        ],\n",
      "        [\n",
      "          \"2016\",\n",
      "          19.687234932\n",
      "        ],\n",
      "        [\n",
      "          \"2015\",\n",
      "          19.533503173\n",
      "        ],\n",
      "        [\n",
      "          \"2014\",\n",
      "          19.100073868\n",
      "        ],\n",
      "        [\n",
      "          \"2013\",\n",
      "          18.966859773\n",
      "        ],\n",
      "        [\n",
      "          \"2012\",\n",
      "          18.486649451\n",
      "        ],\n",
      "        [\n",
      "          \"2011\",\n",
      "          18.886687718\n",
      "        ],\n",
      "        [\n",
      "          \"2010\",\n",
      "          19.180113847\n",
      "        ],\n",
      "        [\n",
      "          \"2009\",\n",
      "          18.771391049\n",
      "        ],\n",
      "        [\n",
      "          \"2008\",\n",
      "          19.497954475\n",
      "        ],\n",
      "        [\n",
      "          \"2007\",\n",
      "          20.680368921\n",
      "        ],\n",
      "        [\n",
      "          \"2006\",\n",
      "          20.687474836\n",
      "        ],\n",
      "        [\n",
      "          \"2005\",\n",
      "          20.802151614\n",
      "        ],\n",
      "        [\n",
      "          \"2004\",\n",
      "          20.731123464\n",
      "        ],\n",
      "        [\n",
      "          \"2003\",\n",
      "          20.033591899\n",
      "        ],\n",
      "        [\n",
      "          \"2002\",\n",
      "          19.761644625\n",
      "        ],\n",
      "        [\n",
      "          \"2001\",\n",
      "          19.648519819\n",
      "        ],\n",
      "        [\n",
      "          \"2000\",\n",
      "          19.701119224\n",
      "        ],\n",
      "        [\n",
      "          \"1999\",\n",
      "          19.519432427\n",
      "        ],\n",
      "        [\n",
      "          \"1998\",\n",
      "          18.917022359\n",
      "        ],\n",
      "        [\n",
      "          \"1997\",\n",
      "          18.620301786\n",
      "        ],\n",
      "        [\n",
      "          \"1996\",\n",
      "          18.309109462\n",
      "        ],\n",
      "        [\n",
      "          \"1995\",\n",
      "          17.724571288\n",
      "        ],\n",
      "        [\n",
      "          \"1994\",\n",
      "          17.718979427\n",
      "        ],\n",
      "        [\n",
      "          \"1993\",\n",
      "          17.236999112\n",
      "        ],\n",
      "        [\n",
      "          \"1992\",\n",
      "          17.03222423\n",
      "        ],\n",
      "        [\n",
      "          \"1991\",\n",
      "          16.713846896\n",
      "        ],\n",
      "        [\n",
      "          \"1990\",\n",
      "          16.989137219\n",
      "        ]\n",
      "      ],\n",
      "      \"end\": \"2020\",\n",
      "      \"f\": \"A\",\n",
      "      \"geography\": \"USA\",\n",
      "      \"lastHistoricalPeriod\": \"2018\",\n",
      "      \"name\": \"Total Petroleum and Other Liquids Product Supplied, Annual\",\n",
      "      \"series_id\": \"STEO.PATCPUSX.A\",\n",
      "      \"source\": \"U.S. Energy Information Administration (EIA) - Short Term Energy Outlook\",\n",
      "      \"start\": \"1990\",\n",
      "      \"units\": \"million barrels per day\",\n",
      "      \"updated\": \"2019-03-12T12:00:58-0400\"\n",
      "    }\n",
      "  ]\n",
      "}\n"
     ]
    }
   ],
   "source": [
    "# Pretty Print the output of the JSON\n",
    "response = requests.get(petroleum_url).json()\n",
    "print(json.dumps(response, indent=2, sort_keys=True))"
   ]
  },
  {
   "cell_type": "code",
   "execution_count": 5,
   "metadata": {},
   "outputs": [],
   "source": [
    "# Create variables and set them as Lists\n",
    "years = []\n",
    "petroleum_consumption = []\n",
    "\n",
    "# Add an element onto the end of the List of years\n",
    "for x in response[\"series\"][0][\"data\"]:\n",
    "    years.append(x[0])\n",
    "    petroleum_consumption.append(x[1])\n",
    "    \n",
    "# Reverse lists to show years in ascending order\n",
    "years  = years[::-1]\n",
    "petroleum = petroleum_consumption[::-1]"
   ]
  },
  {
   "cell_type": "code",
   "execution_count": 6,
   "metadata": {},
   "outputs": [],
   "source": [
    "# Create a For Loop to calculate the annual percent change for Petroleum\n",
    "i = 0\n",
    "percent_change_petro = []\n",
    "for x in petroleum:\n",
    "    if(i == 0):\n",
    "        percent_change_petro.append(0)\n",
    "    else:\n",
    "        percent_change_petro.append( (x - petroleum[i-1])/ petroleum[i-1] * 100)\n",
    "    i += 1"
   ]
  },
  {
   "cell_type": "code",
   "execution_count": 7,
   "metadata": {},
   "outputs": [
    {
     "data": {
      "text/html": [
       "<div>\n",
       "<style scoped>\n",
       "    .dataframe tbody tr th:only-of-type {\n",
       "        vertical-align: middle;\n",
       "    }\n",
       "\n",
       "    .dataframe tbody tr th {\n",
       "        vertical-align: top;\n",
       "    }\n",
       "\n",
       "    .dataframe thead th {\n",
       "        text-align: right;\n",
       "    }\n",
       "</style>\n",
       "<table border=\"1\" class=\"dataframe\">\n",
       "  <thead>\n",
       "    <tr style=\"text-align: right;\">\n",
       "      <th></th>\n",
       "      <th>Year</th>\n",
       "      <th>Oil (mmbpd)</th>\n",
       "      <th>% Change</th>\n",
       "    </tr>\n",
       "  </thead>\n",
       "  <tbody>\n",
       "    <tr>\n",
       "      <th>0</th>\n",
       "      <td>1990</td>\n",
       "      <td>16.989137</td>\n",
       "      <td>0.000000</td>\n",
       "    </tr>\n",
       "    <tr>\n",
       "      <th>1</th>\n",
       "      <td>1991</td>\n",
       "      <td>16.713847</td>\n",
       "      <td>-1.620390</td>\n",
       "    </tr>\n",
       "    <tr>\n",
       "      <th>2</th>\n",
       "      <td>1992</td>\n",
       "      <td>17.032224</td>\n",
       "      <td>1.904872</td>\n",
       "    </tr>\n",
       "    <tr>\n",
       "      <th>3</th>\n",
       "      <td>1993</td>\n",
       "      <td>17.236999</td>\n",
       "      <td>1.202279</td>\n",
       "    </tr>\n",
       "    <tr>\n",
       "      <th>4</th>\n",
       "      <td>1994</td>\n",
       "      <td>17.718979</td>\n",
       "      <td>2.796196</td>\n",
       "    </tr>\n",
       "  </tbody>\n",
       "</table>\n",
       "</div>"
      ],
      "text/plain": [
       "   Year  Oil (mmbpd)  % Change\n",
       "0  1990    16.989137  0.000000\n",
       "1  1991    16.713847 -1.620390\n",
       "2  1992    17.032224  1.904872\n",
       "3  1993    17.236999  1.202279\n",
       "4  1994    17.718979  2.796196"
      ]
     },
     "execution_count": 7,
     "metadata": {},
     "output_type": "execute_result"
    }
   ],
   "source": [
    "# Use Pandas to create a DataFrame displaying the annual percent change per year\n",
    "petroleum_consumption_mmbpd_df = pd.DataFrame({\n",
    "    'Year': years,\n",
    "    'Oil (mmbpd)': petroleum,\n",
    "    '% Change': percent_change_petro\n",
    "})\n",
    "petroleum_consumption_mmbpd_df.head()"
   ]
  },
  {
   "cell_type": "code",
   "execution_count": 8,
   "metadata": {},
   "outputs": [
    {
     "data": {
      "text/plain": [
       "Year           6.419997e+121\n",
       "Oil (mmbpd)     1.919965e+01\n",
       "% Change        7.112290e-01\n",
       "dtype: float64"
      ]
     },
     "execution_count": 8,
     "metadata": {},
     "output_type": "execute_result"
    }
   ],
   "source": [
    "# Calculate the averages over thirty years of consumption data\n",
    "petroleum_consumption_mmbpd_df.mean()"
   ]
  },
  {
   "cell_type": "code",
   "execution_count": 9,
   "metadata": {},
   "outputs": [
    {
     "name": "stdout",
     "output_type": "stream",
     "text": [
      "The least amount of oil consumed in the US was in 1991 with 16.713846896 million barrels per day.\n",
      "2020 is projected to have the highest level of petroleum consumption at approximately 21.030747596 million barrels per day.\n",
      "The greatest percent increase in U.S. Energy Consumption of petroleum was 3.481809794851699% in 2004.\n",
      "The greatest percent decrease in U.S. Energy Consumption of petroleum was -5.717569403702996% in 2008.\n",
      "The U.S. has consumed an average of 19.199648892709675 million barrels per day over the last thirty years.\n",
      "The U.S. has consumed a total of 595.1891156739999 million barrels per day over the last thirty years.\n",
      "The largest difference in total petroleum consumption from 1990 and 2020 is 4.3169007000000015 million barrels per day.\n"
     ]
    }
   ],
   "source": [
    "# Taking a closer look at the data...\n",
    "# Calculate lowest and highest consumption levels for petroleum and other liquid fuels\n",
    "min_consumption_value = petroleum_consumption_mmbpd_df[\"Oil (mmbpd)\"].min()\n",
    "min_consumption_year = int(petroleum_consumption_mmbpd_df[petroleum_consumption_mmbpd_df[\"Oil (mmbpd)\"]==min_consumption_value].Year)\n",
    "max_consumption_value = petroleum_consumption_mmbpd_df[\"Oil (mmbpd)\"].max()\n",
    "max_consumption_year = int(petroleum_consumption_mmbpd_df[petroleum_consumption_mmbpd_df[\"Oil (mmbpd)\"]==max_consumption_value].Year)\n",
    "print(f\"The least amount of oil consumed in the US was in {int(min_consumption_year)} with {min_consumption_value} million barrels per day.\")\n",
    "print(f\"{int(max_consumption_year)} is projected to have the highest level of petroleum consumption at approximately {max_consumption_value} million barrels per day.\")\n",
    "\n",
    "# Calculate the greatest percent increase and decrease in petroleum consumption\n",
    "max_petro_consumption_delta= petroleum_consumption_mmbpd_df[\"% Change\"].max()\n",
    "max_petro_consumption_year= int(petroleum_consumption_mmbpd_df[petroleum_consumption_mmbpd_df[\"% Change\"]==max_petro_consumption_delta].Year)\n",
    "min_petro_consumption_delta = petroleum_consumption_mmbpd_df[\"% Change\"].min()\n",
    "min_petro_consumption_year = int(petroleum_consumption_mmbpd_df[petroleum_consumption_mmbpd_df[\"% Change\"]==min_petro_consumption_delta].Year)\n",
    "print(f\"The greatest percent increase in U.S. Energy Consumption of petroleum was {max_petro_consumption_delta}% in {max_petro_consumption_year}.\")\n",
    "print(f\"The greatest percent decrease in U.S. Energy Consumption of petroleum was {min_petro_consumption_delta}% in {min_petro_consumption_year}.\")\n",
    "\n",
    "\n",
    "# Calculate the total petroleum and other liquid consumption over the last thirty years\n",
    "petroleum_total_consumption = petroleum_consumption_mmbpd_df[\"Oil (mmbpd)\"].mean()\n",
    "print(f\"The U.S. has consumed an average of {petroleum_total_consumption} million barrels per day over the last thirty years.\")\n",
    "\n",
    "# Calculate the total petroleum and other liquid fuel consumption\n",
    "petroleum_total_consumption = petroleum_consumption_mmbpd_df[\"Oil (mmbpd)\"].sum() \n",
    "\n",
    "print(f\"The U.S. has consumed a total of {petroleum_total_consumption} million barrels per day over the last thirty years.\")\n",
    "\n",
    "# Calculate the difference between highest and lowest petroleum consumption level\n",
    "petroleum_greatestchange = (max_consumption_value - min_consumption_value)\n",
    "print(f\"The largest difference in total petroleum consumption from 1990 and 2020 is {petroleum_greatestchange} million barrels per day.\")"
   ]
  },
  {
   "cell_type": "code",
   "execution_count": 10,
   "metadata": {},
   "outputs": [],
   "source": [
    "#  Export file as a CSV, without the Pandas index, but with the header\n",
    "petroleum_consumption_mmbpd_df.to_csv(\"resources/PetroleumConsumption.csv\", index=True, header=True)"
   ]
  },
  {
   "cell_type": "code",
   "execution_count": 11,
   "metadata": {},
   "outputs": [
    {
     "data": {
      "image/png": "[encoded data removed]",
      "text/plain": [
       "<Figure size 1440x720 with 1 Axes>"
      ]
     },
     "metadata": {
      "needs_background": "light"
     },
     "output_type": "display_data"
    },
    {
     "name": "stdout",
     "output_type": "stream",
     "text": [
      "The least amount of oil consumed in the U.S. was in 1991 with 16.713846896 million barrels per day.\n",
      "2020 is projected to have the highest level of petroleum consumption at approximately 21.030747596 million barrels per day.\n"
     ]
    }
   ],
   "source": [
    "# Configure plot size for Total Petroleum and Other Liquids Product Supplied, Annual\n",
    "plt.figure(figsize=(20,10))\n",
    "\n",
    "# Create a visual trend for the data\n",
    "plt.scatter(years, petroleum, color=\"blue\", edgecolors=\"black\")\n",
    "plt.plot(years, petroleum, linewidth=1.75, color=\"blue\")\n",
    "plt.title(\"U.S. Total Petroleum and Other Liquids Product Supplied, Annual\", fontsize=\"xx-large\")\n",
    "plt.ylabel(\"Million Barrels/Day\", fontsize=\"x-large\")\n",
    "plt.xlabel(\"Years\", fontsize=\"x-large\")\n",
    "plt.grid(True)\n",
    "\n",
    "# Save Figure\n",
    "plt.savefig(\"output/US Petroleum Consumption.png\")\n",
    "\n",
    "# display the figure\n",
    "plt.show()\n",
    "\n",
    "# Print the lowest and highest consumption levels for petroleum and other liquid fuels\n",
    "print(f\"The least amount of oil consumed in the U.S. was in {int(min_consumption_year)} with {min_consumption_value} million barrels per day.\")\n",
    "print(f\"{int(max_consumption_year)} is projected to have the highest level of petroleum consumption at approximately {max_consumption_value} million barrels per day.\")\n"
   ]
  },
  {
   "cell_type": "code",
   "execution_count": 12,
   "metadata": {},
   "outputs": [],
   "source": [
    "# US Natural Gas Consumption, Annual\n",
    "# URL for GET requests to retrieve\n",
    "natural_gas_url = \"http://api.eia.gov/series/?api_key=\" + api_key + \"&series_id=STEO.NGTCPUS.A\""
   ]
  },
  {
   "cell_type": "code",
   "execution_count": 13,
   "metadata": {},
   "outputs": [
    {
     "name": "stdout",
     "output_type": "stream",
     "text": [
      "<Response [200]>\n"
     ]
    }
   ],
   "source": [
    "# Print the response object to the console\n",
    "print(requests.get(natural_gas_url))"
   ]
  },
  {
   "cell_type": "code",
   "execution_count": 14,
   "metadata": {},
   "outputs": [
    {
     "name": "stdout",
     "output_type": "stream",
     "text": [
      "{\n",
      "  \"request\": {\n",
      "    \"command\": \"series\",\n",
      "    \"series_id\": \"STEO.NGTCPUS.A\"\n",
      "  },\n",
      "  \"series\": [\n",
      "    {\n",
      "      \"copyright\": \"None\",\n",
      "      \"data\": [\n",
      "        [\n",
      "          \"2020\",\n",
      "          83.678454563\n",
      "        ],\n",
      "        [\n",
      "          \"2019\",\n",
      "          83.565551423\n",
      "        ],\n",
      "        [\n",
      "          \"2018\",\n",
      "          82.061451205\n",
      "        ],\n",
      "        [\n",
      "          \"2017\",\n",
      "          74.317059965\n",
      "        ],\n",
      "        [\n",
      "          \"2016\",\n",
      "          74.984128506\n",
      "        ],\n",
      "        [\n",
      "          \"2015\",\n",
      "          74.640616866\n",
      "        ],\n",
      "        [\n",
      "          \"2014\",\n",
      "          72.858455003\n",
      "        ],\n",
      "        [\n",
      "          \"2013\",\n",
      "          71.657648115\n",
      "        ],\n",
      "        [\n",
      "          \"2012\",\n",
      "          69.777203531\n",
      "        ],\n",
      "        [\n",
      "          \"2011\",\n",
      "          67.061342888\n",
      "        ],\n",
      "        [\n",
      "          \"2010\",\n",
      "          65.991140718\n",
      "        ],\n",
      "        [\n",
      "          \"2009\",\n",
      "          62.767243771\n",
      "        ],\n",
      "        [\n",
      "          \"2008\",\n",
      "          63.598285935\n",
      "        ],\n",
      "        [\n",
      "          \"2007\",\n",
      "          63.297987197\n",
      "        ],\n",
      "        [\n",
      "          \"2006\",\n",
      "          59.449506847\n",
      "        ],\n",
      "        [\n",
      "          \"2005\",\n",
      "          60.313534642\n",
      "        ],\n",
      "        [\n",
      "          \"2004\",\n",
      "          61.209136117\n",
      "        ],\n",
      "        [\n",
      "          \"2003\",\n",
      "          61.031504691\n",
      "        ],\n",
      "        [\n",
      "          \"2002\",\n",
      "          63.087740853\n",
      "        ],\n",
      "        [\n",
      "          \"2001\",\n",
      "          60.927744144\n",
      "        ],\n",
      "        [\n",
      "          \"2000\",\n",
      "          63.757540042\n",
      "        ],\n",
      "        [\n",
      "          \"1999\",\n",
      "          61.384995388\n",
      "        ],\n",
      "        [\n",
      "          \"1998\",\n",
      "          60.947825258\n",
      "        ],\n",
      "        [\n",
      "          \"1997\",\n",
      "          62.294088424\n",
      "        ],\n",
      "        [\n",
      "          \"1996\",\n",
      "          61.77344222\n",
      "        ],\n",
      "        [\n",
      "          \"1995\",\n",
      "          60.840792507\n",
      "        ],\n",
      "        [\n",
      "          \"1994\",\n",
      "          58.211229173\n",
      "        ],\n",
      "        [\n",
      "          \"1993\",\n",
      "          56.958472351\n",
      "        ],\n",
      "        [\n",
      "          \"1992\",\n",
      "          55.268382475\n",
      "        ],\n",
      "        [\n",
      "          \"1991\",\n",
      "          53.594702954\n",
      "        ],\n",
      "        [\n",
      "          \"1990\",\n",
      "          52.530287689\n",
      "        ]\n",
      "      ],\n",
      "      \"end\": \"2020\",\n",
      "      \"f\": \"A\",\n",
      "      \"geography\": \"USA\",\n",
      "      \"lastHistoricalPeriod\": \"2018\",\n",
      "      \"name\": \"US Natural Gas Consumption, Annual\",\n",
      "      \"series_id\": \"STEO.NGTCPUS.A\",\n",
      "      \"source\": \"U.S. Energy Information Administration (EIA) - Short Term Energy Outlook\",\n",
      "      \"start\": \"1990\",\n",
      "      \"units\": \"billion cubic feet per day\",\n",
      "      \"updated\": \"2019-03-12T12:00:58-0400\"\n",
      "    }\n",
      "  ]\n",
      "}\n"
     ]
    }
   ],
   "source": [
    "# Pretty Print the output of the JSON\n",
    "response = requests.get(natural_gas_url).json()\n",
    "print(json.dumps(response, indent=2, sort_keys=True))"
   ]
  },
  {
   "cell_type": "code",
   "execution_count": 15,
   "metadata": {},
   "outputs": [],
   "source": [
    "# US Natural Gas Consumption, Annual\n",
    "# Create variables and set them as Lists\n",
    "years = []\n",
    "natural_gas_consumption = []\n",
    "\n",
    "# Add an element onto the end of the List of years\n",
    "for x in response[\"series\"][0][\"data\"]:\n",
    "    years.append(x[0])\n",
    "    natural_gas_consumption.append(x[1])\n",
    "    \n",
    "# Reverse lists to show years in ascending order\n",
    "years  = years[::-1]\n",
    "natural_gas = natural_gas_consumption[::-1]"
   ]
  },
  {
   "cell_type": "code",
   "execution_count": 16,
   "metadata": {},
   "outputs": [],
   "source": [
    "# Create a For Loop to calculate the annual percent change for Natural Gas\n",
    "i = 0\n",
    "percent_change_natgas = []\n",
    "for x in natural_gas:\n",
    "    if(i == 0):\n",
    "        percent_change_natgas.append(0)\n",
    "    else:\n",
    "        percent_change_natgas.append( (x - natural_gas[i-1])/ natural_gas[i-1] * 100)\n",
    "    i += 1"
   ]
  },
  {
   "cell_type": "code",
   "execution_count": 17,
   "metadata": {},
   "outputs": [
    {
     "data": {
      "text/html": [
       "<div>\n",
       "<style scoped>\n",
       "    .dataframe tbody tr th:only-of-type {\n",
       "        vertical-align: middle;\n",
       "    }\n",
       "\n",
       "    .dataframe tbody tr th {\n",
       "        vertical-align: top;\n",
       "    }\n",
       "\n",
       "    .dataframe thead th {\n",
       "        text-align: right;\n",
       "    }\n",
       "</style>\n",
       "<table border=\"1\" class=\"dataframe\">\n",
       "  <thead>\n",
       "    <tr style=\"text-align: right;\">\n",
       "      <th></th>\n",
       "      <th>NG (bcf/day)</th>\n",
       "      <th>% Change</th>\n",
       "    </tr>\n",
       "    <tr>\n",
       "      <th>Year</th>\n",
       "      <th></th>\n",
       "      <th></th>\n",
       "    </tr>\n",
       "  </thead>\n",
       "  <tbody>\n",
       "    <tr>\n",
       "      <th>1990</th>\n",
       "      <td>52.530288</td>\n",
       "      <td>0.000000</td>\n",
       "    </tr>\n",
       "    <tr>\n",
       "      <th>1991</th>\n",
       "      <td>53.594703</td>\n",
       "      <td>2.026289</td>\n",
       "    </tr>\n",
       "    <tr>\n",
       "      <th>1992</th>\n",
       "      <td>55.268382</td>\n",
       "      <td>3.122845</td>\n",
       "    </tr>\n",
       "    <tr>\n",
       "      <th>1993</th>\n",
       "      <td>56.958472</td>\n",
       "      <td>3.057969</td>\n",
       "    </tr>\n",
       "    <tr>\n",
       "      <th>1994</th>\n",
       "      <td>58.211229</td>\n",
       "      <td>2.199421</td>\n",
       "    </tr>\n",
       "  </tbody>\n",
       "</table>\n",
       "</div>"
      ],
      "text/plain": [
       "      NG (bcf/day)  % Change\n",
       "Year                        \n",
       "1990     52.530288  0.000000\n",
       "1991     53.594703  2.026289\n",
       "1992     55.268382  3.122845\n",
       "1993     56.958472  3.057969\n",
       "1994     58.211229  2.199421"
      ]
     },
     "execution_count": 17,
     "metadata": {},
     "output_type": "execute_result"
    }
   ],
   "source": [
    "# Use Pandas to create a DataFrame displaying the years, values and annual percent change per year\n",
    "ng_consumption_bcf_df = pd.DataFrame({\n",
    "    'Year': years,\n",
    "    'NG (bcf/day)': natural_gas,\n",
    "    '% Change': percent_change_natgas\n",
    "})\n",
    "ng_consumption_bcf_df.set_index(\"Year\").head()"
   ]
  },
  {
   "cell_type": "code",
   "execution_count": 18,
   "metadata": {},
   "outputs": [
    {
     "data": {
      "text/plain": [
       "Year            6.419997e+121\n",
       "NG (bcf/day)     6.528508e+01\n",
       "% Change         1.554474e+00\n",
       "dtype: float64"
      ]
     },
     "execution_count": 18,
     "metadata": {},
     "output_type": "execute_result"
    }
   ],
   "source": [
    "# calculate average percent change over thirty years of consumption data\n",
    "ng_consumption_bcf_df.mean()"
   ]
  },
  {
   "cell_type": "code",
   "execution_count": 19,
   "metadata": {},
   "outputs": [
    {
     "name": "stdout",
     "output_type": "stream",
     "text": [
      "The least amount of natural gas consumed in the U.S. was in 1990 with 52.530287689 billion cubic feet per day.\n",
      "2020 is projected to have the highest level of natural gas consumption at approximately 83.678454563 billion cubic feet/day.\n",
      "The greatest percent increase in U.S. Energy Consumption of natural gas was 10.420744905203811% in 2018.\n",
      "The greatest percent decrease in U.S. Energy Consumption of natural gas was -4.438370577246055% in 2001.\n",
      "The U.S. has consumed an average of 65.28508049874192 billion cubic feet/day over the last thirty years.\n"
     ]
    }
   ],
   "source": [
    "# Taking a closer look at the data...\n",
    "# Calculate highest and lowest consumption levels for natural gas\n",
    "min_ngconsumption_value = ng_consumption_bcf_df[\"NG (bcf/day)\"].min()\n",
    "min_ngconsumption_year = int(ng_consumption_bcf_df[ng_consumption_bcf_df[\"NG (bcf/day)\"]==min_ngconsumption_value].Year)\n",
    "max_ngconsumption_value = ng_consumption_bcf_df[\"NG (bcf/day)\"].max()\n",
    "max_ngconsumption_year = int(ng_consumption_bcf_df[ng_consumption_bcf_df[\"NG (bcf/day)\"]==max_ngconsumption_value].Year)\n",
    "\n",
    "print(f\"The least amount of natural gas consumed in the U.S. was in {int(min_ngconsumption_year)} with {min_ngconsumption_value} billion cubic feet per day.\")\n",
    "print(f\"{int(max_ngconsumption_year)} is projected to have the highest level of natural gas consumption at approximately {max_ngconsumption_value} billion cubic feet/day.\")\n",
    "\n",
    "# Calculate the greatest percent increase and decrease in natural gas consumption consumption\n",
    "max_ng_consumption_delta= ng_consumption_bcf_df[\"% Change\"].max()\n",
    "max_ng_consumption_year= int(ng_consumption_bcf_df[ng_consumption_bcf_df[\"% Change\"]==max_ng_consumption_delta].Year)\n",
    "min_ng_consumption_delta = ng_consumption_bcf_df[\"% Change\"].min()\n",
    "min_ng_consumption_year = int(ng_consumption_bcf_df[ng_consumption_bcf_df[\"% Change\"]==min_ng_consumption_delta].Year)\n",
    "\n",
    "print(f\"The greatest percent increase in U.S. Energy Consumption of natural gas was {max_ng_consumption_delta}% in {max_ng_consumption_year}.\")\n",
    "print(f\"The greatest percent decrease in U.S. Energy Consumption of natural gas was {min_ng_consumption_delta}% in {min_ng_consumption_year}.\")\n",
    "\n",
    "# Calculate the average natural gas consumption over the last thirty years\n",
    "ng_total_consumption = ng_consumption_bcf_df[\"NG (bcf/day)\"].mean()\n",
    "print(f\"The U.S. has consumed an average of {ng_total_consumption} billion cubic feet/day over the last thirty years.\")\n"
   ]
  },
  {
   "cell_type": "code",
   "execution_count": 20,
   "metadata": {},
   "outputs": [],
   "source": [
    "#  Export file as a CSV, without the Pandas index, but with the header\n",
    "ng_consumption_bcf_df.to_csv(\"resources/NaturalGasConsumption.csv\", index=False, header=True)"
   ]
  },
  {
   "cell_type": "code",
   "execution_count": 21,
   "metadata": {},
   "outputs": [
    {
     "data": {
      "image/png": "[encoded data removed]",
      "text/plain": [
       "<Figure size 1440x720 with 1 Axes>"
      ]
     },
     "metadata": {
      "needs_background": "light"
     },
     "output_type": "display_data"
    },
    {
     "name": "stdout",
     "output_type": "stream",
     "text": [
      "The least amount of natural gas consumed in the U.S. was in 1990 with 52.530287689 billion cubic feet per day.\n",
      "2020 is projected to have the highest level of natural gas consumption at approximately 83.678454563 billion cubic feet/day.\n"
     ]
    }
   ],
   "source": [
    "# Set the size of the figure to fit 30 years of data\n",
    "plt.figure(figsize=(20,10))\n",
    "\n",
    "# Create a visual for the data\n",
    "plt.scatter(years, natural_gas, color=\"green\", edgecolors=\"black\")\n",
    "plt.plot(years, natural_gas, linewidth=1.75, color=\"green\")\n",
    "plt.title(\"U.S. Natural Gas Consumption, Annual\", fontsize=\"xx-large\")\n",
    "plt.ylabel(\"Billion Cubic Ft/Day\", fontsize=\"x-large\")\n",
    "plt.xlabel(\"Years\", fontsize=\"x-large\")\n",
    "plt.grid(True)\n",
    "\n",
    "# Save Figure\n",
    "plt.savefig(\"output/US Natural Gas Consumption.png\")\n",
    "\n",
    "# Display the figure\n",
    "plt.show()\n",
    "\n",
    "# Print the highest and lowest consumption levels for natural gas\n",
    "print(f\"The least amount of natural gas consumed in the U.S. was in {int(min_ngconsumption_year)} with {min_ngconsumption_value} billion cubic feet per day.\")\n",
    "print(f\"{int(max_ngconsumption_year)} is projected to have the highest level of natural gas consumption at approximately {max_ngconsumption_value} billion cubic feet/day.\")\n"
   ]
  },
  {
   "cell_type": "code",
   "execution_count": 22,
   "metadata": {},
   "outputs": [],
   "source": [
    "# U.S. Total Coal Supply, Annual\n",
    "# URL for GET requests to retrieve U.S. Total Coal Supply, Annually\n",
    "coal_url = \"http://api.eia.gov/series/?api_key=\" + api_key + \"&series_id=STEO.CLTSPUS_TON.A\""
   ]
  },
  {
   "cell_type": "code",
   "execution_count": 23,
   "metadata": {},
   "outputs": [
    {
     "name": "stdout",
     "output_type": "stream",
     "text": [
      "<Response [200]>\n"
     ]
    }
   ],
   "source": [
    "# Print the response object to the console\n",
    "print(requests.get(coal_url))"
   ]
  },
  {
   "cell_type": "code",
   "execution_count": 24,
   "metadata": {},
   "outputs": [
    {
     "name": "stdout",
     "output_type": "stream",
     "text": [
      "{\n",
      "  \"request\": {\n",
      "    \"command\": \"series\",\n",
      "    \"series_id\": \"STEO.CLTSPUS_TON.A\"\n",
      "  },\n",
      "  \"series\": [\n",
      "    {\n",
      "      \"copyright\": \"None\",\n",
      "      \"data\": [\n",
      "        [\n",
      "          \"2020\",\n",
      "          585.18649\n",
      "        ],\n",
      "        [\n",
      "          \"2019\",\n",
      "          609.226738\n",
      "        ],\n",
      "        [\n",
      "          \"2018\",\n",
      "          689.19294963\n",
      "        ],\n",
      "        [\n",
      "          \"2017\",\n",
      "          721.41797597\n",
      "        ],\n",
      "        [\n",
      "          \"2016\",\n",
      "          733.519456\n",
      "        ],\n",
      "        [\n",
      "          \"2015\",\n",
      "          803.56624798\n",
      "        ],\n",
      "        [\n",
      "          \"2014\",\n",
      "          928.83286904\n",
      "        ],\n",
      "        [\n",
      "          \"2013\",\n",
      "          925.89304602\n",
      "        ],\n",
      "        [\n",
      "          \"2012\",\n",
      "          904.16558998\n",
      "        ],\n",
      "        [\n",
      "          \"2011\",\n",
      "          1014.4545341\n",
      "        ],\n",
      "        [\n",
      "          \"2010\",\n",
      "          1048.695744\n",
      "        ],\n",
      "        [\n",
      "          \"2009\",\n",
      "          1012.462846\n",
      "        ],\n",
      "        [\n",
      "          \"2008\",\n",
      "          1126.288328\n",
      "        ],\n",
      "        [\n",
      "          \"2007\",\n",
      "          1132.083565\n",
      "        ],\n",
      "        [\n",
      "          \"2006\",\n",
      "          1121.115532\n",
      "        ],\n",
      "        [\n",
      "          \"2005\",\n",
      "          1135.06992\n",
      "        ],\n",
      "        [\n",
      "          \"2004\",\n",
      "          1114.14167\n",
      "        ],\n",
      "        [\n",
      "          \"2003\",\n",
      "          1090.458028\n",
      "        ],\n",
      "        [\n",
      "          \"2002\",\n",
      "          1070.394756\n",
      "        ],\n",
      "        [\n",
      "          \"2001\",\n",
      "          1067.2652393\n",
      "        ],\n",
      "        [\n",
      "          \"2000\",\n",
      "          1085.03259\n",
      "        ],\n",
      "        [\n",
      "          \"1999\",\n",
      "          1035.740304\n",
      "        ],\n",
      "        [\n",
      "          \"1998\",\n",
      "          1032.6726501\n",
      "        ],\n",
      "        [\n",
      "          \"1997\",\n",
      "          1033.22147\n",
      "        ],\n",
      "        [\n",
      "          \"1996\",\n",
      "          1007.7334059\n",
      "        ],\n",
      "        [\n",
      "          \"1995\",\n",
      "          962.73625895\n",
      "        ],\n",
      "        [\n",
      "          \"1994\",\n",
      "          955.62622594\n",
      "        ],\n",
      "        [\n",
      "          \"1993\",\n",
      "          939.16511106\n",
      "        ],\n",
      "        [\n",
      "          \"1992\",\n",
      "          908.11384401\n",
      "        ],\n",
      "        [\n",
      "          \"1991\",\n",
      "          895.303788\n",
      "        ],\n",
      "        [\n",
      "          \"1990\",\n",
      "          902.76874396\n",
      "        ]\n",
      "      ],\n",
      "      \"end\": \"2020\",\n",
      "      \"f\": \"A\",\n",
      "      \"geography\": \"USA\",\n",
      "      \"lastHistoricalPeriod\": \"2017\",\n",
      "      \"name\": \"Total Coal Supply, Annual\",\n",
      "      \"series_id\": \"STEO.CLTSPUS_TON.A\",\n",
      "      \"source\": \"U.S. Energy Information Administration (EIA) - Short Term Energy Outlook\",\n",
      "      \"start\": \"1990\",\n",
      "      \"units\": \"million short tons\",\n",
      "      \"updated\": \"2019-03-12T12:00:58-0400\"\n",
      "    }\n",
      "  ]\n",
      "}\n"
     ]
    }
   ],
   "source": [
    "# Pretty Print the output of the JSON\n",
    "response = requests.get(coal_url).json()\n",
    "print(json.dumps(response, indent=2, sort_keys=True))"
   ]
  },
  {
   "cell_type": "code",
   "execution_count": 25,
   "metadata": {},
   "outputs": [],
   "source": [
    "# US Total Coal Supply, Annual\n",
    "# Create variables and set them as Lists\n",
    "years = []\n",
    "coal_supply = []\n",
    "\n",
    "# Add an element onto the end of the List of years\n",
    "for x in response[\"series\"][0][\"data\"]:\n",
    "    years.append(x[0])\n",
    "    coal_supply.append(x[1])\n",
    "    \n",
    "# Reverse lists to show years in ascending order\n",
    "years  = years[::-1]\n",
    "coal = coal_supply[::-1]"
   ]
  },
  {
   "cell_type": "code",
   "execution_count": 26,
   "metadata": {},
   "outputs": [],
   "source": [
    "# Create a For Loop to calculate the annual percent change for Natural Gas\n",
    "i = 0\n",
    "percent_change_coal = []\n",
    "for x in coal:\n",
    "    if(i == 0):\n",
    "        percent_change_coal.append(0)\n",
    "    else:\n",
    "        percent_change_coal.append( (x - coal[i-1])/ coal[i-1] * 100)\n",
    "    i += 1"
   ]
  },
  {
   "cell_type": "code",
   "execution_count": 27,
   "metadata": {},
   "outputs": [
    {
     "data": {
      "text/html": [
       "<div>\n",
       "<style scoped>\n",
       "    .dataframe tbody tr th:only-of-type {\n",
       "        vertical-align: middle;\n",
       "    }\n",
       "\n",
       "    .dataframe tbody tr th {\n",
       "        vertical-align: top;\n",
       "    }\n",
       "\n",
       "    .dataframe thead th {\n",
       "        text-align: right;\n",
       "    }\n",
       "</style>\n",
       "<table border=\"1\" class=\"dataframe\">\n",
       "  <thead>\n",
       "    <tr style=\"text-align: right;\">\n",
       "      <th></th>\n",
       "      <th>Year</th>\n",
       "      <th>coal (MMSt)</th>\n",
       "      <th>% Change</th>\n",
       "    </tr>\n",
       "  </thead>\n",
       "  <tbody>\n",
       "    <tr>\n",
       "      <th>0</th>\n",
       "      <td>1990</td>\n",
       "      <td>902.768744</td>\n",
       "      <td>0.000000</td>\n",
       "    </tr>\n",
       "    <tr>\n",
       "      <th>1</th>\n",
       "      <td>1991</td>\n",
       "      <td>895.303788</td>\n",
       "      <td>-0.826896</td>\n",
       "    </tr>\n",
       "    <tr>\n",
       "      <th>2</th>\n",
       "      <td>1992</td>\n",
       "      <td>908.113844</td>\n",
       "      <td>1.430806</td>\n",
       "    </tr>\n",
       "    <tr>\n",
       "      <th>3</th>\n",
       "      <td>1993</td>\n",
       "      <td>939.165111</td>\n",
       "      <td>3.419314</td>\n",
       "    </tr>\n",
       "    <tr>\n",
       "      <th>4</th>\n",
       "      <td>1994</td>\n",
       "      <td>955.626226</td>\n",
       "      <td>1.752739</td>\n",
       "    </tr>\n",
       "  </tbody>\n",
       "</table>\n",
       "</div>"
      ],
      "text/plain": [
       "   Year  coal (MMSt)  % Change\n",
       "0  1990   902.768744  0.000000\n",
       "1  1991   895.303788 -0.826896\n",
       "2  1992   908.113844  1.430806\n",
       "3  1993   939.165111  3.419314\n",
       "4  1994   955.626226  1.752739"
      ]
     },
     "execution_count": 27,
     "metadata": {},
     "output_type": "execute_result"
    }
   ],
   "source": [
    "# Use Pandas to create a DataFrame displaying the annual percent change per year\n",
    "coal_consumption_mst_df = pd.DataFrame({\n",
    "    'Year': years,\n",
    "    'coal (MMSt)': coal,\n",
    "    '% Change': percent_change_coal\n",
    "})\n",
    "coal_consumption_mst_df.head()"
   ]
  },
  {
   "cell_type": "code",
   "execution_count": 28,
   "metadata": {},
   "outputs": [
    {
     "data": {
      "text/plain": [
       "Year           6.419997e+121\n",
       "coal (MMSt)     9.545660e+02\n",
       "% Change       -1.266751e+00\n",
       "dtype: float64"
      ]
     },
     "execution_count": 28,
     "metadata": {},
     "output_type": "execute_result"
    }
   ],
   "source": [
    "# Calculate average data over the thirty years\n",
    "coal_consumption_mst_df.mean()"
   ]
  },
  {
   "cell_type": "code",
   "execution_count": 29,
   "metadata": {},
   "outputs": [
    {
     "name": "stdout",
     "output_type": "stream",
     "text": [
      "The most amount of coal consumed in the U.S. was in 2005 with 1135.06992 million short tons.\n",
      "2020 is projected to be the year the U.S. consumes the least amount of coal, approximated at 585.18649 million shot tons.\n",
      "The greatest percent increase in U.S. Energy Consumption of coal was in 2000 with 4.759135645261141%.\n",
      "The greatest percent decrease in U.S. Energy Consumption of coal was in 2015 with -13.486454370361592%.\n",
      "The U.S. has consumed an average of 954.5659973206452 million short tons over the last thirty years.\n"
     ]
    }
   ],
   "source": [
    "# Find minimum and maximum values for US coal consumption\n",
    "min_coal_consumption_value = coal_consumption_mst_df[\"coal (MMSt)\"].min()\n",
    "min_coal_consumption_year = int(coal_consumption_mst_df[coal_consumption_mst_df[\"coal (MMSt)\"]==min_coal_consumption_value].Year)\n",
    "max_coal_consumption_value = coal_consumption_mst_df[\"coal (MMSt)\"].max()\n",
    "max_coal_consumption_year = int(coal_consumption_mst_df[coal_consumption_mst_df[\"coal (MMSt)\"]==max_coal_consumption_value].Year)\n",
    "\n",
    "print(f\"The most amount of coal consumed in the U.S. was in {int(max_coal_consumption_year)} with {max_coal_consumption_value} million short tons.\")\n",
    "print(f\"{int(min_coal_consumption_year)} is projected to be the year the U.S. consumes the least amount of coal, approximated at {min_coal_consumption_value} million shot tons.\")\n",
    "\n",
    "# Find minimum and maximum annual percent change for US coal consumption\n",
    "max_coal_consumption_delta= coal_consumption_mst_df[\"% Change\"].max()\n",
    "max_coal_consumption_year= int(coal_consumption_mst_df[coal_consumption_mst_df[\"% Change\"]==max_coal_consumption_delta].Year)\n",
    "min_coal_consumption_delta = coal_consumption_mst_df[\"% Change\"].min()\n",
    "min_coal_consumption_year = int(coal_consumption_mst_df[coal_consumption_mst_df[\"% Change\"]==min_coal_consumption_delta].Year)\n",
    "\n",
    "print(f\"The greatest percent increase in U.S. Energy Consumption of coal was in {max_coal_consumption_year} with {max_coal_consumption_delta}%.\")\n",
    "print(f\"The greatest percent decrease in U.S. Energy Consumption of coal was in {min_coal_consumption_year} with {min_coal_consumption_delta}%.\")\n",
    "\n",
    "# find the average coal consumption over the last thirty years\n",
    "coal_total_consumption = coal_consumption_mst_df[\"coal (MMSt)\"].mean()\n",
    "print(f\"The U.S. has consumed an average of {coal_total_consumption} million short tons over the last thirty years.\")\n"
   ]
  },
  {
   "cell_type": "code",
   "execution_count": 30,
   "metadata": {},
   "outputs": [],
   "source": [
    "#  Export file as a CSV, without the Pandas index, but with the header\n",
    "coal_consumption_mst_df.to_csv(\"resources/CoalConsumption.csv\", index=True, header=True)"
   ]
  },
  {
   "cell_type": "code",
   "execution_count": 31,
   "metadata": {},
   "outputs": [
    {
     "data": {
      "image/png": "[encoded data removed]",
      "text/plain": [
       "<Figure size 1440x720 with 1 Axes>"
      ]
     },
     "metadata": {
      "needs_background": "light"
     },
     "output_type": "display_data"
    }
   ],
   "source": [
    "# Set the size of the figure to fit 30 years of data\n",
    "plt.figure(figsize=(20,10))\n",
    "\n",
    "# Create a visual for the data\n",
    "plt.scatter(years, coal, color=\"brown\", edgecolors=\"black\")\n",
    "plt.plot(years, coal, linewidth=1.75, color=\"brown\")\n",
    "plt.title(\"U.S. Total Coal Supply, Annual\", fontsize=\"xx-large\")\n",
    "plt.ylabel(\"Million Short Tons\", fontsize=\"x-large\")\n",
    "plt.xlabel(\"Years\", fontsize=\"x-large\")\n",
    "plt.grid(True)\n",
    "\n",
    "# Save Figure\n",
    "plt.savefig(\"output/US Coal Consumption.png\")\n",
    "\n",
    "# display the figure\n",
    "plt.show()"
   ]
  },
  {
   "cell_type": "code",
   "execution_count": 32,
   "metadata": {},
   "outputs": [
    {
     "data": {
      "text/html": [
       "<div>\n",
       "<style scoped>\n",
       "    .dataframe tbody tr th:only-of-type {\n",
       "        vertical-align: middle;\n",
       "    }\n",
       "\n",
       "    .dataframe tbody tr th {\n",
       "        vertical-align: top;\n",
       "    }\n",
       "\n",
       "    .dataframe thead th {\n",
       "        text-align: right;\n",
       "    }\n",
       "</style>\n",
       "<table border=\"1\" class=\"dataframe\">\n",
       "  <thead>\n",
       "    <tr style=\"text-align: right;\">\n",
       "      <th></th>\n",
       "      <th>Petroleum (mmbpd)</th>\n",
       "      <th>Natural Gas (bcf/day)</th>\n",
       "      <th>Coal (MMSt)</th>\n",
       "    </tr>\n",
       "    <tr>\n",
       "      <th>Year</th>\n",
       "      <th></th>\n",
       "      <th></th>\n",
       "      <th></th>\n",
       "    </tr>\n",
       "  </thead>\n",
       "  <tbody>\n",
       "    <tr>\n",
       "      <th>1990</th>\n",
       "      <td>16.989137</td>\n",
       "      <td>52.530288</td>\n",
       "      <td>902.768744</td>\n",
       "    </tr>\n",
       "    <tr>\n",
       "      <th>1991</th>\n",
       "      <td>16.713847</td>\n",
       "      <td>53.594703</td>\n",
       "      <td>895.303788</td>\n",
       "    </tr>\n",
       "    <tr>\n",
       "      <th>1992</th>\n",
       "      <td>17.032224</td>\n",
       "      <td>55.268382</td>\n",
       "      <td>908.113844</td>\n",
       "    </tr>\n",
       "    <tr>\n",
       "      <th>1993</th>\n",
       "      <td>17.236999</td>\n",
       "      <td>56.958472</td>\n",
       "      <td>939.165111</td>\n",
       "    </tr>\n",
       "    <tr>\n",
       "      <th>1994</th>\n",
       "      <td>17.718979</td>\n",
       "      <td>58.211229</td>\n",
       "      <td>955.626226</td>\n",
       "    </tr>\n",
       "  </tbody>\n",
       "</table>\n",
       "</div>"
      ],
      "text/plain": [
       "      Petroleum (mmbpd)  Natural Gas (bcf/day)  Coal (MMSt)\n",
       "Year                                                       \n",
       "1990          16.989137              52.530288   902.768744\n",
       "1991          16.713847              53.594703   895.303788\n",
       "1992          17.032224              55.268382   908.113844\n",
       "1993          17.236999              56.958472   939.165111\n",
       "1994          17.718979              58.211229   955.626226"
      ]
     },
     "execution_count": 32,
     "metadata": {},
     "output_type": "execute_result"
    }
   ],
   "source": [
    "# Create Combined FossilFuel DataFrame using list of dictionaries method\n",
    "fossilfuel_consumption_df = pd.DataFrame({\n",
    "    'Year': years,\n",
    "    'Petroleum (mmbpd)': petroleum,\n",
    "    'Natural Gas (bcf/day)': natural_gas,\n",
    "    'Coal (MMSt)': coal,\n",
    "})\n",
    "# Display DataFrame\n",
    "fossilfuel_consumption_df.set_index(\"Year\").head()"
   ]
  },
  {
   "cell_type": "code",
   "execution_count": 33,
   "metadata": {},
   "outputs": [],
   "source": [
    "#  Export file as a CSV, without the Pandas index, but with the header\n",
    "fossilfuel_consumption_df.to_csv(\"resources/FossilFuelConsumption.csv\", index=False, header=True)"
   ]
  },
  {
   "cell_type": "code",
   "execution_count": 34,
   "metadata": {},
   "outputs": [
    {
     "data": {
      "text/html": [
       "<div>\n",
       "<style scoped>\n",
       "    .dataframe tbody tr th:only-of-type {\n",
       "        vertical-align: middle;\n",
       "    }\n",
       "\n",
       "    .dataframe tbody tr th {\n",
       "        vertical-align: top;\n",
       "    }\n",
       "\n",
       "    .dataframe thead th {\n",
       "        text-align: right;\n",
       "    }\n",
       "</style>\n",
       "<table border=\"1\" class=\"dataframe\">\n",
       "  <thead>\n",
       "    <tr style=\"text-align: right;\">\n",
       "      <th></th>\n",
       "      <th>PetNorm</th>\n",
       "      <th>NatGasNorm</th>\n",
       "      <th>CoalNorm</th>\n",
       "    </tr>\n",
       "  </thead>\n",
       "  <tbody>\n",
       "    <tr>\n",
       "      <th>0</th>\n",
       "      <td>0.063770</td>\n",
       "      <td>0.000000</td>\n",
       "      <td>0.577545</td>\n",
       "    </tr>\n",
       "    <tr>\n",
       "      <th>1</th>\n",
       "      <td>0.000000</td>\n",
       "      <td>0.034173</td>\n",
       "      <td>0.563969</td>\n",
       "    </tr>\n",
       "    <tr>\n",
       "      <th>2</th>\n",
       "      <td>0.073751</td>\n",
       "      <td>0.087905</td>\n",
       "      <td>0.587265</td>\n",
       "    </tr>\n",
       "    <tr>\n",
       "      <th>3</th>\n",
       "      <td>0.121187</td>\n",
       "      <td>0.142165</td>\n",
       "      <td>0.643734</td>\n",
       "    </tr>\n",
       "    <tr>\n",
       "      <th>4</th>\n",
       "      <td>0.232837</td>\n",
       "      <td>0.182384</td>\n",
       "      <td>0.673670</td>\n",
       "    </tr>\n",
       "  </tbody>\n",
       "</table>\n",
       "</div>"
      ],
      "text/plain": [
       "    PetNorm  NatGasNorm  CoalNorm\n",
       "0  0.063770    0.000000  0.577545\n",
       "1  0.000000    0.034173  0.563969\n",
       "2  0.073751    0.087905  0.587265\n",
       "3  0.121187    0.142165  0.643734\n",
       "4  0.232837    0.182384  0.673670"
      ]
     },
     "execution_count": 34,
     "metadata": {},
     "output_type": "execute_result"
    }
   ],
   "source": [
    "# Normalize values for the different types of fossil fuels\n",
    "x = fossilfuel_consumption_df[['Petroleum (mmbpd)','Natural Gas (bcf/day)', 'Coal (MMSt)']].values.astype(float) #returns a numpy array\n",
    "min_max_scaler = preprocessing.MinMaxScaler()\n",
    "x_scaled = min_max_scaler.fit_transform(x)\n",
    "fossilfuel_consumption_normdf = pd.DataFrame(x_scaled, columns=['PetNorm', 'NatGasNorm', 'CoalNorm'])\n",
    "fossilfuel_consumption_normdf.head()"
   ]
  },
  {
   "cell_type": "code",
   "execution_count": 35,
   "metadata": {},
   "outputs": [],
   "source": [
    "#  Export file as a CSV, without the Pandas index, but with the header\n",
    "fossilfuel_consumption_normdf.to_csv(\"resources/FossilFuelConsumptionNormValues.csv\", index=False, header=True)"
   ]
  },
  {
   "cell_type": "code",
   "execution_count": 36,
   "metadata": {},
   "outputs": [],
   "source": [
    "# Initialize variable for vertical line on multi-line graph to come\n",
    "x_lim = 0.25 * np.pi\n",
    "x_axis = np.arange(0, x_lim, 1.0)\n",
    "sin = np.sin(x_axis)"
   ]
  },
  {
   "cell_type": "code",
   "execution_count": 37,
   "metadata": {},
   "outputs": [
    {
     "data": {
      "image/png": "[encoded data removed]",
      "text/plain": [
       "<Figure size 1440x720 with 1 Axes>"
      ]
     },
     "metadata": {
      "needs_background": "light"
     },
     "output_type": "display_data"
    }
   ],
   "source": [
    "# US Fossil Fuel Consumption (1990 - Present)\n",
    "plt.figure(figsize=(20,10))\n",
    "\n",
    "# # Create a visual for the combined normalized fossil fuel data\n",
    "plt.plot(years, fossilfuel_consumption_normdf['PetNorm'], color= \"blue\", linewidth=2.0)\n",
    "plt.plot(years, fossilfuel_consumption_normdf['NatGasNorm'], color =\"green\", linewidth=2.0)\n",
    "plt.plot(years, fossilfuel_consumption_normdf['CoalNorm'], color=\"brown\", linewidth=2.0)\n",
    "plt.title(\"US Fossil Fuel Consumption, Annual\", fontsize=\"xx-large\")\n",
    "plt.ylabel(\"Normalized Values\", fontsize=\"x-large\")\n",
    "plt.xlabel(\"Years\", fontsize=\"x-large\")\n",
    "plt.legend(loc='best', frameon=True, fancybox=True, fontsize=\"x-large\")\n",
    "\n",
    "plt.grid(True)\n",
    "\n",
    "#save figure as a png\n",
    "plt.savefig(\"output/US Fossil Fuel Consumption.png\")\n",
    "\n",
    "# # Display line for when renewables began to take off, variable initialized in previous cell\n",
    "plt.vlines(11, 0, x_lim, alpha=1.0, linestyles=\"--\", label=\"Renewable Entry\", linewidth=2.5, color=\"black\")\n",
    "plt.legend()\n",
    "\n",
    "# display the figure\n",
    "plt.show()\n"
   ]
  },
  {
   "cell_type": "code",
   "execution_count": null,
   "metadata": {},
   "outputs": [],
   "source": []
  },
  {
   "cell_type": "code",
   "execution_count": null,
   "metadata": {},
   "outputs": [],
   "source": []
  },
  {
   "cell_type": "code",
   "execution_count": null,
   "metadata": {},
   "outputs": [],
   "source": []
  },
  {
   "cell_type": "code",
   "execution_count": null,
   "metadata": {
    "scrolled": true
   },
   "outputs": [],
   "source": []
  },
  {
   "cell_type": "code",
   "execution_count": null,
   "metadata": {},
   "outputs": [],
   "source": []
  },
  {
   "cell_type": "code",
   "execution_count": null,
   "metadata": {},
   "outputs": [],
   "source": []
  },
  {
   "cell_type": "code",
   "execution_count": null,
   "metadata": {},
   "outputs": [],
   "source": []
  },
  {
   "cell_type": "code",
   "execution_count": null,
   "metadata": {},
   "outputs": [],
   "source": []
  },
  {
   "cell_type": "code",
   "execution_count": null,
   "metadata": {},
   "outputs": [],
   "source": []
  }
 ],
 "metadata": {
  "kernelspec": {
   "display_name": "Python 3",
   "language": "python",
   "name": "python3"
  },
  "language_info": {
   "codemirror_mode": {
    "name": "ipython",
    "version": 3
   },
   "file_extension": ".py",
   "mimetype": "text/x-python",
   "name": "python",
   "nbconvert_exporter": "python",
   "pygments_lexer": "ipython3",
   "version": "3.7.1"
  }
 },
 "nbformat": 4,
 "nbformat_minor": 2
}
